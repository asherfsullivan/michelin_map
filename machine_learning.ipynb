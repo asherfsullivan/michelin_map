{
 "cells": [
  {
   "cell_type": "code",
   "execution_count": 74,
   "id": "f48c3653",
   "metadata": {},
   "outputs": [],
   "source": [
    "#We will be using a Deep Learning Model because we have 5 Classifications (1-5 star yelp ratings) and whether those correlate to a 1-3 Michelin Star resturant.\n",
    "\n",
    "# Import our dependencies\n",
    "from sklearn.model_selection import train_test_split\n",
    "from sklearn.preprocessing import StandardScaler,OneHotEncoder\n",
    "from sklearn.linear_model import LogisticRegression\n",
    "from sklearn.ensemble import RandomForestClassifier\n",
    "from sklearn.metrics import accuracy_score\n",
    "import pandas as pd\n",
    "import tensorflow as tf\n",
    "import numpy as np\n",
    "\n",
    "#  Import and read the ca_michelin_yelp_data.csv.\n",
    "df = pd.read_csv('./Resources/all_michelin_data.csv')\n",
    "df['rating'] = df['rating'].str.replace(' star rating','')\n",
    "df['review_count'] = df['review_count'].str.replace(' reviews','')\n",
    "#df.head()"
   ]
  },
  {
   "cell_type": "code",
   "execution_count": 75,
   "id": "09da28c6",
   "metadata": {},
   "outputs": [],
   "source": [
    "# Transform String column \n",
    "def change_string(price_rating):\n",
    "    if price_rating == \"$\":\n",
    "        return 1\n",
    "    elif price_rating == \"$$\":\n",
    "        return 2\n",
    "    elif price_rating == \"$$$\":\n",
    "        return 3\n",
    "    elif price_rating == \"$$$$\":\n",
    "        return 4\n",
    "    else:\n",
    "        return 0\n",
    "    \n",
    "df[\"price_rating\"] = df[\"price_rating\"].apply(change_string)\n",
    "#df.head()"
   ]
  },
  {
   "cell_type": "code",
   "execution_count": 76,
   "id": "6824273a",
   "metadata": {},
   "outputs": [],
   "source": [
    "#bin by lat and long\n",
    "step = 0.2\n",
    "to_bin = lambda x: np.floor(x / step) * step\n",
    "df[\"latBin\"] = to_bin(df.latitude)\n",
    "df[\"lonBin\"] = to_bin(df.longitude)\n",
    "groups = df.groupby([\"latBin\", \"lonBin\"])"
   ]
  },
  {
   "cell_type": "markdown",
   "id": "9948df3e",
   "metadata": {},
   "source": [
    "# Linear Regression Model to determine 1,2, or 3 Michelin stars"
   ]
  },
  {
   "cell_type": "code",
   "execution_count": 67,
   "id": "8b7feb21",
   "metadata": {},
   "outputs": [],
   "source": [
    "import matplotlib.pyplot as plt\n",
    "from sklearn.linear_model import LinearRegression\n",
    "from sklearn import linear_model\n",
    "\n",
    "X = df[['review_count', 'rating', 'price_rating', 'latBin', 'lonBin']]# .1202\n",
    "#X = df[['review_count', 'rating', 'price_rating']]#.1183\n",
    "#X = df[['latBin', 'lonBin']]#-0.05\n",
    "#X = df[['review_count', 'rating']]#0.084\n",
    "y = df['stars']"
   ]
  },
  {
   "cell_type": "code",
   "execution_count": 68,
   "id": "5f2b1802",
   "metadata": {},
   "outputs": [
    {
     "data": {
      "text/plain": [
       "LinearRegression()"
      ]
     },
     "execution_count": 68,
     "metadata": {},
     "output_type": "execute_result"
    }
   ],
   "source": [
    "# Create a linear model\n",
    "model = LinearRegression()\n",
    "\n",
    "# Fit (train) our model to the data\n",
    "model.fit(X, y)"
   ]
  },
  {
   "cell_type": "code",
   "execution_count": 69,
   "id": "7b229458",
   "metadata": {},
   "outputs": [
    {
     "name": "stdout",
     "output_type": "stream",
     "text": [
      "mean squared error (MSE): 0.29589524871857287\n",
      "R-squared (R2 ): 0.14170019335580342\n"
     ]
    }
   ],
   "source": [
    "from sklearn.metrics import mean_squared_error, r2_score\n",
    "\n",
    "# Use our model to predict a value\n",
    "predicted = model.predict(X)\n",
    "\n",
    "# Score the prediction with MSE and R2\n",
    "mse = mean_squared_error(y, predicted)\n",
    "r2 = r2_score(y, predicted)\n",
    "\n",
    "print(f\"mean squared error (MSE): {mse}\")\n",
    "print(f\"R-squared (R2 ): {r2}\")"
   ]
  },
  {
   "cell_type": "code",
   "execution_count": 70,
   "id": "c680f498",
   "metadata": {},
   "outputs": [
    {
     "data": {
      "text/plain": [
       "0.14170019335580342"
      ]
     },
     "execution_count": 70,
     "metadata": {},
     "output_type": "execute_result"
    }
   ],
   "source": [
    "# Overall Score for the model\n",
    "model.score(X, y)"
   ]
  },
  {
   "cell_type": "code",
   "execution_count": 71,
   "id": "56879675",
   "metadata": {},
   "outputs": [],
   "source": [
    " from sklearn.model_selection import train_test_split\n",
    "\n",
    "X_train, X_test, y_train, y_test = train_test_split(X, y, random_state=42)"
   ]
  },
  {
   "cell_type": "code",
   "execution_count": 72,
   "id": "5c6547e2",
   "metadata": {},
   "outputs": [
    {
     "data": {
      "text/plain": [
       "LinearRegression()"
      ]
     },
     "execution_count": 72,
     "metadata": {},
     "output_type": "execute_result"
    }
   ],
   "source": [
    " model.fit(X_train, y_train)"
   ]
  },
  {
   "cell_type": "code",
   "execution_count": 73,
   "id": "3df2bb04",
   "metadata": {},
   "outputs": [
    {
     "data": {
      "text/plain": [
       "0.12026255632424265"
      ]
     },
     "execution_count": 73,
     "metadata": {},
     "output_type": "execute_result"
    }
   ],
   "source": [
    " model.score(X_test, y_test)"
   ]
  },
  {
   "cell_type": "markdown",
   "id": "349815d1",
   "metadata": {},
   "source": [
    "# Neural Network Model to determine 1, 2, or 3 Michelin stars"
   ]
  },
  {
   "cell_type": "code",
   "execution_count": 145,
   "id": "3720d46a",
   "metadata": {},
   "outputs": [],
   "source": [
    "# Import our dependencies\n",
    "import pandas as pd\n",
    "import matplotlib as plt\n",
    "from sklearn.datasets import make_blobs\n",
    "import sklearn as skl\n",
    "import tensorflow as tf"
   ]
  },
  {
   "cell_type": "code",
   "execution_count": 146,
   "id": "4dc1038e",
   "metadata": {},
   "outputs": [],
   "source": [
    "X = df[['review_count', 'rating', 'price_rating', 'latBin', 'lonBin']]# .1202\n",
    "#X = df[['review_count', 'rating', 'price_rating']]#.1183\n",
    "#X = df[['latBin', 'lonBin']]#-0.05\n",
    "#X = df[['review_count', 'rating']]#0.084\n",
    "y = df['stars']"
   ]
  },
  {
   "cell_type": "code",
   "execution_count": 147,
   "id": "b05c5b61",
   "metadata": {},
   "outputs": [],
   "source": [
    "# Use sklearn to split dataset\n",
    "from sklearn.model_selection import train_test_split\n",
    "X_train, X_test, y_train, y_test = train_test_split(X, y, random_state=78)"
   ]
  },
  {
   "cell_type": "code",
   "execution_count": 148,
   "id": "cfa09350",
   "metadata": {},
   "outputs": [],
   "source": [
    " # Create scaler instance\n",
    "X_scaler = skl.preprocessing.StandardScaler()\n",
    "\n",
    "# Fit the scaler\n",
    "X_scaler.fit(X_train)\n",
    "\n",
    "# Scale the data\n",
    "X_train_scaled = X_scaler.transform(X_train)\n",
    "X_test_scaled = X_scaler.transform(X_test)"
   ]
  },
  {
   "cell_type": "code",
   "execution_count": 149,
   "id": "2cc89bae",
   "metadata": {},
   "outputs": [
    {
     "name": "stdout",
     "output_type": "stream",
     "text": [
      "Model: \"sequential_4\"\n",
      "_________________________________________________________________\n",
      "Layer (type)                 Output Shape              Param #   \n",
      "=================================================================\n",
      "dense_12 (Dense)             (None, 20)                120       \n",
      "_________________________________________________________________\n",
      "dense_13 (Dense)             (None, 10)                210       \n",
      "_________________________________________________________________\n",
      "dense_14 (Dense)             (None, 1)                 11        \n",
      "=================================================================\n",
      "Total params: 341\n",
      "Trainable params: 341\n",
      "Non-trainable params: 0\n",
      "_________________________________________________________________\n"
     ]
    }
   ],
   "source": [
    "# Define the model - deep neural net, i.e., the number of input features and hidden nodes for each layer.\n",
    "number_input_features = len(X_train_scaled[0])\n",
    "hidden_nodes_layer1 = 20\n",
    "hidden_nodes_layer2 = 10\n",
    "\n",
    "nn = tf.keras.models.Sequential()\n",
    "\n",
    "# First hidden layer\n",
    "nn.add(\n",
    "    tf.keras.layers.Dense(units=hidden_nodes_layer1, input_dim=number_input_features, activation=\"relu\")\n",
    ")\n",
    "# Second hidden layer\n",
    "nn.add(tf.keras.layers.Dense(units=hidden_nodes_layer2, activation=\"relu\"))\n",
    "\n",
    "# Output layer\n",
    "nn.add(tf.keras.layers.Dense(units=1, activation=\"sigmoid\"))\n",
    "\n",
    "# Check the structure of the model\n",
    "nn.summary()"
   ]
  },
  {
   "cell_type": "code",
   "execution_count": 150,
   "id": "602356c6",
   "metadata": {},
   "outputs": [],
   "source": [
    "# Compile the model\n",
    "nn.compile(loss=\"binary_crossentropy\", optimizer=\"adam\", metrics=[\"accuracy\"])"
   ]
  },
  {
   "cell_type": "code",
   "execution_count": 151,
   "id": "d253dffc",
   "metadata": {},
   "outputs": [],
   "source": [
    "# Import checkpoint dependencies\n",
    "import os\n",
    "from tensorflow.keras.callbacks import ModelCheckpoint\n",
    "\n",
    "# Define the checkpoint path and filenames\n",
    "os.makedirs(\"checkpoints/\", exist_ok=True)\n",
    "checkpoint_path = \"checkpoints/weights.{epoch:02d}hdf5\""
   ]
  },
  {
   "cell_type": "code",
   "execution_count": 152,
   "id": "0491bb61",
   "metadata": {},
   "outputs": [
    {
     "name": "stdout",
     "output_type": "stream",
     "text": [
      "WARNING:tensorflow:`period` argument is deprecated. Please use `save_freq` to specify the frequency in number of batches seen.\n",
      "Epoch 1/100\n",
      "5/5 [==============================] - 0s 4ms/step - loss: 1.5579 - accuracy: 0.0000e+00\n",
      "Epoch 2/100\n",
      "5/5 [==============================] - 0s 4ms/step - loss: 1.4446 - accuracy: 0.0000e+00\n",
      "Epoch 3/100\n",
      "5/5 [==============================] - 0s 4ms/step - loss: 1.3499 - accuracy: 0.0000e+00\n",
      "Epoch 4/100\n",
      "5/5 [==============================] - 0s 4ms/step - loss: 1.2655 - accuracy: 0.0000e+00\n",
      "Epoch 5/100\n",
      "1/5 [=====>........................] - ETA: 0s - loss: 1.2491 - accuracy: 0.0000e+00\n",
      "Epoch 00005: saving model to checkpoints\\weights.05hdf5\n",
      "5/5 [==============================] - 0s 26ms/step - loss: 1.1935 - accuracy: 0.0149\n",
      "Epoch 6/100\n",
      "5/5 [==============================] - 0s 5ms/step - loss: 1.1286 - accuracy: 0.0149\n",
      "Epoch 7/100\n",
      "5/5 [==============================] - 0s 4ms/step - loss: 1.0699 - accuracy: 0.0299\n",
      "Epoch 8/100\n",
      "5/5 [==============================] - 0s 5ms/step - loss: 1.0152 - accuracy: 0.0373\n",
      "Epoch 9/100\n",
      "5/5 [==============================] - 0s 3ms/step - loss: 0.9672 - accuracy: 0.1269\n",
      "Epoch 10/100\n",
      "1/5 [=====>........................] - ETA: 0s - loss: 0.9352 - accuracy: 0.0938\n",
      "Epoch 00010: saving model to checkpoints\\weights.10hdf5\n",
      "5/5 [==============================] - 0s 12ms/step - loss: 0.9216 - accuracy: 0.2015\n",
      "Epoch 11/100\n",
      "5/5 [==============================] - 0s 2ms/step - loss: 0.8793 - accuracy: 0.2388\n",
      "Epoch 12/100\n",
      "5/5 [==============================] - 0s 2ms/step - loss: 0.8361 - accuracy: 0.2537\n",
      "Epoch 13/100\n",
      "5/5 [==============================] - 0s 2ms/step - loss: 0.7911 - accuracy: 0.2910\n",
      "Epoch 14/100\n",
      "5/5 [==============================] - 0s 2ms/step - loss: 0.7497 - accuracy: 0.3433\n",
      "Epoch 15/100\n",
      "1/5 [=====>........................] - ETA: 0s - loss: 0.7023 - accuracy: 0.4688\n",
      "Epoch 00015: saving model to checkpoints\\weights.15hdf5\n",
      "5/5 [==============================] - 0s 18ms/step - loss: 0.7067 - accuracy: 0.3657\n",
      "Epoch 16/100\n",
      "5/5 [==============================] - 0s 3ms/step - loss: 0.6653 - accuracy: 0.3881\n",
      "Epoch 17/100\n",
      "5/5 [==============================] - 0s 2ms/step - loss: 0.6276 - accuracy: 0.3881\n",
      "Epoch 18/100\n",
      "5/5 [==============================] - 0s 1ms/step - loss: 0.5886 - accuracy: 0.3955\n",
      "Epoch 19/100\n",
      "5/5 [==============================] - 0s 2ms/step - loss: 0.5478 - accuracy: 0.3955\n",
      "Epoch 20/100\n",
      "1/5 [=====>........................] - ETA: 0s - loss: 0.5859 - accuracy: 0.4062\n",
      "Epoch 00020: saving model to checkpoints\\weights.20hdf5\n",
      "5/5 [==============================] - 0s 13ms/step - loss: 0.5071 - accuracy: 0.4403\n",
      "Epoch 21/100\n",
      "5/5 [==============================] - 0s 2ms/step - loss: 0.4654 - accuracy: 0.4627\n",
      "Epoch 22/100\n",
      "5/5 [==============================] - 0s 2ms/step - loss: 0.4246 - accuracy: 0.5000\n",
      "Epoch 23/100\n",
      "5/5 [==============================] - 0s 2ms/step - loss: 0.3795 - accuracy: 0.5299\n",
      "Epoch 24/100\n",
      "5/5 [==============================] - 0s 2ms/step - loss: 0.3339 - accuracy: 0.5373\n",
      "Epoch 25/100\n",
      "1/5 [=====>........................] - ETA: 0s - loss: 0.2941 - accuracy: 0.6250\n",
      "Epoch 00025: saving model to checkpoints\\weights.25hdf5\n",
      "5/5 [==============================] - 0s 14ms/step - loss: 0.2862 - accuracy: 0.5597\n",
      "Epoch 26/100\n",
      "5/5 [==============================] - 0s 3ms/step - loss: 0.2379 - accuracy: 0.5672\n",
      "Epoch 27/100\n",
      "5/5 [==============================] - 0s 2ms/step - loss: 0.1920 - accuracy: 0.5746\n",
      "Epoch 28/100\n",
      "5/5 [==============================] - 0s 2ms/step - loss: 0.1441 - accuracy: 0.6119\n",
      "Epoch 29/100\n",
      "5/5 [==============================] - 0s 2ms/step - loss: 0.0940 - accuracy: 0.6567\n",
      "Epoch 30/100\n",
      "1/5 [=====>........................] - ETA: 0s - loss: 0.0941 - accuracy: 0.7188\n",
      "Epoch 00030: saving model to checkpoints\\weights.30hdf5\n",
      "5/5 [==============================] - 0s 14ms/step - loss: 0.0452 - accuracy: 0.6940\n",
      "Epoch 31/100\n",
      "5/5 [==============================] - 0s 2ms/step - loss: -0.0049 - accuracy: 0.6940\n",
      "Epoch 32/100\n",
      "5/5 [==============================] - 0s 2ms/step - loss: -0.0565 - accuracy: 0.7015\n",
      "Epoch 33/100\n",
      "5/5 [==============================] - 0s 2ms/step - loss: -0.1094 - accuracy: 0.7015\n",
      "Epoch 34/100\n",
      "5/5 [==============================] - 0s 2ms/step - loss: -0.1580 - accuracy: 0.7090\n",
      "Epoch 35/100\n",
      "1/5 [=====>........................] - ETA: 0s - loss: -0.3712 - accuracy: 0.6562\n",
      "Epoch 00035: saving model to checkpoints\\weights.35hdf5\n",
      "5/5 [==============================] - 0s 13ms/step - loss: -0.2100 - accuracy: 0.7239\n",
      "Epoch 36/100\n",
      "5/5 [==============================] - 0s 2ms/step - loss: -0.2663 - accuracy: 0.7239\n",
      "Epoch 37/100\n",
      "5/5 [==============================] - 0s 2ms/step - loss: -0.3248 - accuracy: 0.7313\n",
      "Epoch 38/100\n",
      "5/5 [==============================] - 0s 2ms/step - loss: -0.3824 - accuracy: 0.7388\n",
      "Epoch 39/100\n",
      "5/5 [==============================] - 0s 2ms/step - loss: -0.4368 - accuracy: 0.7388\n",
      "Epoch 40/100\n",
      "1/5 [=====>........................] - ETA: 0s - loss: -0.4073 - accuracy: 0.7812\n",
      "Epoch 00040: saving model to checkpoints\\weights.40hdf5\n",
      "5/5 [==============================] - 0s 15ms/step - loss: -0.4990 - accuracy: 0.7388\n",
      "Epoch 41/100\n",
      "5/5 [==============================] - 0s 2ms/step - loss: -0.5521 - accuracy: 0.7388\n",
      "Epoch 42/100\n",
      "5/5 [==============================] - 0s 2ms/step - loss: -0.6125 - accuracy: 0.7388\n",
      "Epoch 43/100\n",
      "5/5 [==============================] - 0s 2ms/step - loss: -0.6697 - accuracy: 0.7388\n",
      "Epoch 44/100\n",
      "5/5 [==============================] - 0s 2ms/step - loss: -0.7266 - accuracy: 0.7388\n",
      "Epoch 45/100\n",
      "1/5 [=====>........................] - ETA: 0s - loss: -0.9350 - accuracy: 0.7188\n",
      "Epoch 00045: saving model to checkpoints\\weights.45hdf5\n",
      "5/5 [==============================] - 0s 14ms/step - loss: -0.7842 - accuracy: 0.7388\n",
      "Epoch 46/100\n",
      "5/5 [==============================] - 0s 2ms/step - loss: -0.8445 - accuracy: 0.7388\n",
      "Epoch 47/100\n",
      "5/5 [==============================] - 0s 2ms/step - loss: -0.9043 - accuracy: 0.7388\n",
      "Epoch 48/100\n",
      "5/5 [==============================] - 0s 2ms/step - loss: -0.9678 - accuracy: 0.7388\n",
      "Epoch 49/100\n",
      "5/5 [==============================] - 0s 2ms/step - loss: -1.0347 - accuracy: 0.7388\n",
      "Epoch 50/100\n",
      "1/5 [=====>........................] - ETA: 0s - loss: -1.6646 - accuracy: 0.6250\n",
      "Epoch 00050: saving model to checkpoints\\weights.50hdf5\n",
      "5/5 [==============================] - 0s 13ms/step - loss: -1.0994 - accuracy: 0.7388\n",
      "Epoch 51/100\n",
      "5/5 [==============================] - 0s 2ms/step - loss: -1.1687 - accuracy: 0.7388\n",
      "Epoch 52/100\n",
      "5/5 [==============================] - 0s 2ms/step - loss: -1.2444 - accuracy: 0.7388\n",
      "Epoch 53/100\n",
      "5/5 [==============================] - 0s 2ms/step - loss: -1.3159 - accuracy: 0.7388\n",
      "Epoch 54/100\n",
      "5/5 [==============================] - 0s 2ms/step - loss: -1.3918 - accuracy: 0.7388\n",
      "Epoch 55/100\n",
      "1/5 [=====>........................] - ETA: 0s - loss: -1.4872 - accuracy: 0.7188\n",
      "Epoch 00055: saving model to checkpoints\\weights.55hdf5\n",
      "5/5 [==============================] - 0s 16ms/step - loss: -1.4687 - accuracy: 0.7388\n",
      "Epoch 56/100\n",
      "5/5 [==============================] - 0s 3ms/step - loss: -1.5450 - accuracy: 0.7388\n",
      "Epoch 57/100\n",
      "5/5 [==============================] - 0s 3ms/step - loss: -1.6266 - accuracy: 0.7388\n",
      "Epoch 58/100\n",
      "5/5 [==============================] - 0s 5ms/step - loss: -1.7161 - accuracy: 0.7388\n",
      "Epoch 59/100\n",
      "5/5 [==============================] - 0s 3ms/step - loss: -1.8000 - accuracy: 0.7388\n",
      "Epoch 60/100\n",
      "1/5 [=====>........................] - ETA: 0s - loss: -1.8161 - accuracy: 0.7500\n",
      "Epoch 00060: saving model to checkpoints\\weights.60hdf5\n",
      "5/5 [==============================] - 0s 16ms/step - loss: -1.9029 - accuracy: 0.7388\n",
      "Epoch 61/100\n",
      "5/5 [==============================] - 0s 2ms/step - loss: -2.0024 - accuracy: 0.7388\n",
      "Epoch 62/100\n",
      "5/5 [==============================] - 0s 2ms/step - loss: -2.1087 - accuracy: 0.7388\n",
      "Epoch 63/100\n",
      "5/5 [==============================] - 0s 2ms/step - loss: -2.2116 - accuracy: 0.7388\n",
      "Epoch 64/100\n",
      "5/5 [==============================] - 0s 2ms/step - loss: -2.3333 - accuracy: 0.7388\n",
      "Epoch 65/100\n",
      "1/5 [=====>........................] - ETA: 0s - loss: -2.0955 - accuracy: 0.7500\n",
      "Epoch 00065: saving model to checkpoints\\weights.65hdf5\n",
      "5/5 [==============================] - 0s 16ms/step - loss: -2.4452 - accuracy: 0.7388\n",
      "Epoch 66/100\n",
      "5/5 [==============================] - 0s 3ms/step - loss: -2.5614 - accuracy: 0.7388\n",
      "Epoch 67/100\n",
      "5/5 [==============================] - 0s 3ms/step - loss: -2.7013 - accuracy: 0.7388\n",
      "Epoch 68/100\n",
      "5/5 [==============================] - 0s 3ms/step - loss: -2.8425 - accuracy: 0.7388\n",
      "Epoch 69/100\n",
      "5/5 [==============================] - 0s 2ms/step - loss: -2.9889 - accuracy: 0.7388\n",
      "Epoch 70/100\n",
      "1/5 [=====>........................] - ETA: 0s - loss: -2.7116 - accuracy: 0.7500\n",
      "Epoch 00070: saving model to checkpoints\\weights.70hdf5\n",
      "5/5 [==============================] - 0s 17ms/step - loss: -3.1444 - accuracy: 0.7388\n",
      "Epoch 71/100\n",
      "5/5 [==============================] - 0s 2ms/step - loss: -3.3024 - accuracy: 0.7388\n",
      "Epoch 72/100\n",
      "5/5 [==============================] - 0s 2ms/step - loss: -3.4659 - accuracy: 0.7388\n",
      "Epoch 73/100\n",
      "5/5 [==============================] - 0s 2ms/step - loss: -3.6502 - accuracy: 0.7388\n",
      "Epoch 74/100\n",
      "5/5 [==============================] - 0s 2ms/step - loss: -3.8375 - accuracy: 0.7388\n",
      "Epoch 75/100\n",
      "1/5 [=====>........................] - ETA: 0s - loss: -5.6062 - accuracy: 0.6562\n",
      "Epoch 00075: saving model to checkpoints\\weights.75hdf5\n",
      "5/5 [==============================] - 0s 16ms/step - loss: -4.0196 - accuracy: 0.7388\n",
      "Epoch 76/100\n",
      "5/5 [==============================] - 0s 3ms/step - loss: -4.2656 - accuracy: 0.7388\n",
      "Epoch 77/100\n",
      "5/5 [==============================] - 0s 2ms/step - loss: -4.4719 - accuracy: 0.7388\n",
      "Epoch 78/100\n",
      "5/5 [==============================] - 0s 2ms/step - loss: -4.6667 - accuracy: 0.7388\n",
      "Epoch 79/100\n",
      "5/5 [==============================] - 0s 3ms/step - loss: -4.8828 - accuracy: 0.7388\n",
      "Epoch 80/100\n",
      "1/5 [=====>........................] - ETA: 0s - loss: -5.9014 - accuracy: 0.7188\n",
      "Epoch 00080: saving model to checkpoints\\weights.80hdf5\n",
      "5/5 [==============================] - 0s 16ms/step - loss: -5.1244 - accuracy: 0.7388\n",
      "Epoch 81/100\n",
      "5/5 [==============================] - 0s 2ms/step - loss: -5.3613 - accuracy: 0.7388\n",
      "Epoch 82/100\n",
      "5/5 [==============================] - 0s 2ms/step - loss: -5.6151 - accuracy: 0.7388\n",
      "Epoch 83/100\n",
      "5/5 [==============================] - 0s 3ms/step - loss: -5.9258 - accuracy: 0.7388\n",
      "Epoch 84/100\n",
      "5/5 [==============================] - 0s 2ms/step - loss: -6.1982 - accuracy: 0.7388\n",
      "Epoch 85/100\n",
      "1/5 [=====>........................] - ETA: 0s - loss: -6.0420 - accuracy: 0.7500\n",
      "Epoch 00085: saving model to checkpoints\\weights.85hdf5\n",
      "5/5 [==============================] - 0s 15ms/step - loss: -6.5224 - accuracy: 0.7388\n",
      "Epoch 86/100\n",
      "5/5 [==============================] - 0s 2ms/step - loss: -6.8361 - accuracy: 0.7388\n",
      "Epoch 87/100\n",
      "5/5 [==============================] - 0s 2ms/step - loss: -7.1435 - accuracy: 0.7388\n",
      "Epoch 88/100\n",
      "5/5 [==============================] - 0s 2ms/step - loss: -7.4831 - accuracy: 0.7388\n",
      "Epoch 89/100\n",
      "5/5 [==============================] - 0s 2ms/step - loss: -7.8600 - accuracy: 0.7388\n",
      "Epoch 90/100\n",
      "1/5 [=====>........................] - ETA: 0s - loss: -8.5775 - accuracy: 0.7188\n",
      "Epoch 00090: saving model to checkpoints\\weights.90hdf5\n",
      "5/5 [==============================] - 0s 14ms/step - loss: -8.2197 - accuracy: 0.7388\n",
      "Epoch 91/100\n",
      "5/5 [==============================] - 0s 3ms/step - loss: -8.6062 - accuracy: 0.7388\n",
      "Epoch 92/100\n",
      "5/5 [==============================] - 0s 2ms/step - loss: -8.9881 - accuracy: 0.7388\n",
      "Epoch 93/100\n",
      "5/5 [==============================] - 0s 2ms/step - loss: -9.3794 - accuracy: 0.7388\n",
      "Epoch 94/100\n",
      "5/5 [==============================] - 0s 2ms/step - loss: -9.8680 - accuracy: 0.7388\n",
      "Epoch 95/100\n",
      "1/5 [=====>........................] - ETA: 0s - loss: -9.0775 - accuracy: 0.7500\n",
      "Epoch 00095: saving model to checkpoints\\weights.95hdf5\n",
      "5/5 [==============================] - 0s 12ms/step - loss: -10.2848 - accuracy: 0.7388\n",
      "Epoch 96/100\n",
      "5/5 [==============================] - 0s 1ms/step - loss: -10.7348 - accuracy: 0.7388\n",
      "Epoch 97/100\n",
      "5/5 [==============================] - 0s 1ms/step - loss: -11.2156 - accuracy: 0.7388\n",
      "Epoch 98/100\n",
      "5/5 [==============================] - 0s 2ms/step - loss: -11.6844 - accuracy: 0.7388\n",
      "Epoch 99/100\n",
      "5/5 [==============================] - 0s 2ms/step - loss: -12.1576 - accuracy: 0.7388\n",
      "Epoch 100/100\n",
      "1/5 [=====>........................] - ETA: 0s - loss: -18.8290 - accuracy: 0.6250\n",
      "Epoch 00100: saving model to checkpoints\\weights.100hdf5\n",
      "5/5 [==============================] - 0s 13ms/step - loss: -12.6770 - accuracy: 0.7388\n"
     ]
    }
   ],
   "source": [
    "# Create a callback that saves the model's weights every 5 epochs\n",
    "cp_callback = ModelCheckpoint(\n",
    "    filepath=checkpoint_path,\n",
    "    verbose=1,\n",
    "    save_weights_only=True,\n",
    "    save_freq='epoch',\n",
    "    period=5)\n",
    "\n",
    "# Train the model\n",
    "fit_model = nn.fit(X_train_scaled, y_train, epochs=100, callbacks=[cp_callback])"
   ]
  },
  {
   "cell_type": "code",
   "execution_count": 153,
   "id": "db67e96d",
   "metadata": {},
   "outputs": [
    {
     "name": "stdout",
     "output_type": "stream",
     "text": [
      "2/2 - 0s - loss: -7.7645e+00 - accuracy: 0.8444\n",
      "Loss: -7.76450252532959, Accuracy: 0.8444444537162781\n"
     ]
    }
   ],
   "source": [
    "# Evaluate the model using the test data\n",
    "model_loss, model_accuracy = nn.evaluate(X_test_scaled,y_test,verbose=2)\n",
    "print(f\"Loss: {model_loss}, Accuracy: {model_accuracy}\")"
   ]
  },
  {
   "cell_type": "code",
   "execution_count": 154,
   "id": "0558d9ba",
   "metadata": {},
   "outputs": [
    {
     "data": {
      "text/plain": [
       "<AxesSubplot:>"
      ]
     },
     "execution_count": 154,
     "metadata": {},
     "output_type": "execute_result"
    },
    {
     "data": {
      "image/png": "[encoded data removed]",
      "text/plain": [
       "<Figure size 432x288 with 1 Axes>"
      ]
     },
     "metadata": {
      "needs_background": "light"
     },
     "output_type": "display_data"
    }
   ],
   "source": [
    "# Create a DataFrame containing training history\n",
    "history_df = pd.DataFrame(fit_model.history)\n",
    "\n",
    "# Increase the index by 1 to match the number of epochs\n",
    "history_df.index += 1\n",
    "\n",
    "# Plot the loss\n",
    "history_df.plot(y=\"loss\")"
   ]
  },
  {
   "cell_type": "code",
   "execution_count": 155,
   "id": "3c931b1a",
   "metadata": {
    "scrolled": true
   },
   "outputs": [
    {
     "data": {
      "text/plain": [
       "<AxesSubplot:>"
      ]
     },
     "execution_count": 155,
     "metadata": {},
     "output_type": "execute_result"
    },
    {
     "data": {
      "image/png": "[encoded data removed]",
      "text/plain": [
       "<Figure size 432x288 with 1 Axes>"
      ]
     },
     "metadata": {
      "needs_background": "light"
     },
     "output_type": "display_data"
    }
   ],
   "source": [
    "# Plot the accuracy\n",
    "history_df.plot(y=\"accuracy\")"
   ]
  },
  {
   "cell_type": "code",
   "execution_count": 157,
   "id": "b20f1330",
   "metadata": {},
   "outputs": [
    {
     "name": "stdout",
     "output_type": "stream",
     "text": [
      "Feature: 0, Score: 0.00010\n",
      "Feature: 1, Score: 0.46865\n",
      "Feature: 2, Score: 0.21632\n",
      "Feature: 3, Score: 0.03322\n",
      "Feature: 4, Score: -0.00301\n"
     ]
    },
    {
     "data": {
      "image/png": "[encoded data removed]",
      "text/plain": [
       "<Figure size 432x288 with 1 Axes>"
      ]
     },
     "metadata": {
      "needs_background": "light"
     },
     "output_type": "display_data"
    }
   ],
   "source": [
    "# linear regression feature importance\n",
    "from sklearn.datasets import make_regression\n",
    "from sklearn.linear_model import LinearRegression\n",
    "from matplotlib import pyplot\n",
    "\n",
    "model.fit(X, y)\n",
    "# get importance\n",
    "importance = model.coef_\n",
    "# summarize feature importance\n",
    "for i,v in enumerate(importance):\n",
    "\tprint('Feature: %0d, Score: %.5f' % (i,v))\n",
    "# plot feature importance\n",
    "pyplot.bar([x for x in range(len(importance))], importance)\n",
    "pyplot.show()"
   ]
  },
  {
   "cell_type": "code",
   "execution_count": null,
   "id": "a9f40ef5",
   "metadata": {},
   "outputs": [],
   "source": []
  },
  {
   "cell_type": "markdown",
   "id": "59d97574",
   "metadata": {},
   "source": [
    "# Include Yelp data into model"
   ]
  },
  {
   "cell_type": "code",
   "execution_count": 118,
   "id": "040236dd",
   "metadata": {},
   "outputs": [],
   "source": [
    "all_df = pd.read_csv('./Resources/combine_data.csv')"
   ]
  },
  {
   "cell_type": "code",
   "execution_count": 123,
   "id": "be034cfc",
   "metadata": {},
   "outputs": [
    {
     "data": {
      "text/html": [
       "<div>\n",
       "<style scoped>\n",
       "    .dataframe tbody tr th:only-of-type {\n",
       "        vertical-align: middle;\n",
       "    }\n",
       "\n",
       "    .dataframe tbody tr th {\n",
       "        vertical-align: top;\n",
       "    }\n",
       "\n",
       "    .dataframe thead th {\n",
       "        text-align: right;\n",
       "    }\n",
       "</style>\n",
       "<table border=\"1\" class=\"dataframe\">\n",
       "  <thead>\n",
       "    <tr style=\"text-align: right;\">\n",
       "      <th></th>\n",
       "      <th>name</th>\n",
       "      <th>rating</th>\n",
       "      <th>review_count</th>\n",
       "      <th>price</th>\n",
       "      <th>latitude</th>\n",
       "      <th>longitude</th>\n",
       "      <th>stars</th>\n",
       "      <th>michelin</th>\n",
       "      <th>latBin</th>\n",
       "      <th>lonBin</th>\n",
       "    </tr>\n",
       "  </thead>\n",
       "  <tbody>\n",
       "    <tr>\n",
       "      <th>0</th>\n",
       "      <td>Chez TJ</td>\n",
       "      <td>4.0</td>\n",
       "      <td>735</td>\n",
       "      <td>$$$$</td>\n",
       "      <td>37.394680</td>\n",
       "      <td>-122.080440</td>\n",
       "      <td>1</td>\n",
       "      <td>1</td>\n",
       "      <td>37.2</td>\n",
       "      <td>-122.2</td>\n",
       "    </tr>\n",
       "    <tr>\n",
       "      <th>1</th>\n",
       "      <td>Protégé</td>\n",
       "      <td>4.5</td>\n",
       "      <td>348</td>\n",
       "      <td>$$$$</td>\n",
       "      <td>37.427853</td>\n",
       "      <td>-122.143620</td>\n",
       "      <td>1</td>\n",
       "      <td>1</td>\n",
       "      <td>37.4</td>\n",
       "      <td>-122.2</td>\n",
       "    </tr>\n",
       "    <tr>\n",
       "      <th>2</th>\n",
       "      <td>Madera</td>\n",
       "      <td>3.5</td>\n",
       "      <td>886</td>\n",
       "      <td>$$$</td>\n",
       "      <td>37.420140</td>\n",
       "      <td>-122.211510</td>\n",
       "      <td>1</td>\n",
       "      <td>1</td>\n",
       "      <td>37.4</td>\n",
       "      <td>-122.4</td>\n",
       "    </tr>\n",
       "    <tr>\n",
       "      <th>3</th>\n",
       "      <td>The Village Pub</td>\n",
       "      <td>4.0</td>\n",
       "      <td>1088</td>\n",
       "      <td>$$$$</td>\n",
       "      <td>37.428970</td>\n",
       "      <td>-122.251780</td>\n",
       "      <td>1</td>\n",
       "      <td>1</td>\n",
       "      <td>37.4</td>\n",
       "      <td>-122.4</td>\n",
       "    </tr>\n",
       "    <tr>\n",
       "      <th>4</th>\n",
       "      <td>Plumed Horse</td>\n",
       "      <td>4.0</td>\n",
       "      <td>1244</td>\n",
       "      <td>$$$$</td>\n",
       "      <td>37.256480</td>\n",
       "      <td>-122.035370</td>\n",
       "      <td>1</td>\n",
       "      <td>1</td>\n",
       "      <td>37.2</td>\n",
       "      <td>-122.2</td>\n",
       "    </tr>\n",
       "    <tr>\n",
       "      <th>...</th>\n",
       "      <td>...</td>\n",
       "      <td>...</td>\n",
       "      <td>...</td>\n",
       "      <td>...</td>\n",
       "      <td>...</td>\n",
       "      <td>...</td>\n",
       "      <td>...</td>\n",
       "      <td>...</td>\n",
       "      <td>...</td>\n",
       "      <td>...</td>\n",
       "    </tr>\n",
       "    <tr>\n",
       "      <th>7106</th>\n",
       "      <td>Bushwacker's</td>\n",
       "      <td>1.5</td>\n",
       "      <td>4</td>\n",
       "      <td>$$</td>\n",
       "      <td>36.614390</td>\n",
       "      <td>-121.898910</td>\n",
       "      <td>0</td>\n",
       "      <td>0</td>\n",
       "      <td>36.6</td>\n",
       "      <td>-122.0</td>\n",
       "    </tr>\n",
       "    <tr>\n",
       "      <th>7107</th>\n",
       "      <td>Mountain Mike's Pizza</td>\n",
       "      <td>2.5</td>\n",
       "      <td>97</td>\n",
       "      <td>$$</td>\n",
       "      <td>36.541830</td>\n",
       "      <td>-121.906112</td>\n",
       "      <td>0</td>\n",
       "      <td>0</td>\n",
       "      <td>36.4</td>\n",
       "      <td>-122.0</td>\n",
       "    </tr>\n",
       "    <tr>\n",
       "      <th>7108</th>\n",
       "      <td>Round Table Pizza</td>\n",
       "      <td>2.0</td>\n",
       "      <td>120</td>\n",
       "      <td>$$</td>\n",
       "      <td>36.611835</td>\n",
       "      <td>-121.844602</td>\n",
       "      <td>0</td>\n",
       "      <td>0</td>\n",
       "      <td>36.6</td>\n",
       "      <td>-122.0</td>\n",
       "    </tr>\n",
       "    <tr>\n",
       "      <th>7109</th>\n",
       "      <td>Latino Market and Taqueria</td>\n",
       "      <td>4.0</td>\n",
       "      <td>4</td>\n",
       "      <td>$$</td>\n",
       "      <td>36.608890</td>\n",
       "      <td>-121.844710</td>\n",
       "      <td>0</td>\n",
       "      <td>0</td>\n",
       "      <td>36.6</td>\n",
       "      <td>-122.0</td>\n",
       "    </tr>\n",
       "    <tr>\n",
       "      <th>7110</th>\n",
       "      <td>Steinbeck's Deli and Espresso Bar</td>\n",
       "      <td>2.0</td>\n",
       "      <td>3</td>\n",
       "      <td>$$</td>\n",
       "      <td>36.616112</td>\n",
       "      <td>-121.900658</td>\n",
       "      <td>0</td>\n",
       "      <td>0</td>\n",
       "      <td>36.6</td>\n",
       "      <td>-122.0</td>\n",
       "    </tr>\n",
       "  </tbody>\n",
       "</table>\n",
       "<p>7111 rows × 10 columns</p>\n",
       "</div>"
      ],
      "text/plain": [
       "                                   name  rating  review_count price  \\\n",
       "0                               Chez TJ     4.0           735  $$$$   \n",
       "1                               Protégé     4.5           348  $$$$   \n",
       "2                                Madera     3.5           886   $$$   \n",
       "3                       The Village Pub     4.0          1088  $$$$   \n",
       "4                          Plumed Horse     4.0          1244  $$$$   \n",
       "...                                 ...     ...           ...   ...   \n",
       "7106                       Bushwacker's     1.5             4    $$   \n",
       "7107              Mountain Mike's Pizza     2.5            97    $$   \n",
       "7108                  Round Table Pizza     2.0           120    $$   \n",
       "7109         Latino Market and Taqueria     4.0             4    $$   \n",
       "7110  Steinbeck's Deli and Espresso Bar     2.0             3    $$   \n",
       "\n",
       "       latitude   longitude  stars  michelin  latBin  lonBin  \n",
       "0     37.394680 -122.080440      1         1    37.2  -122.2  \n",
       "1     37.427853 -122.143620      1         1    37.4  -122.2  \n",
       "2     37.420140 -122.211510      1         1    37.4  -122.4  \n",
       "3     37.428970 -122.251780      1         1    37.4  -122.4  \n",
       "4     37.256480 -122.035370      1         1    37.2  -122.2  \n",
       "...         ...         ...    ...       ...     ...     ...  \n",
       "7106  36.614390 -121.898910      0         0    36.6  -122.0  \n",
       "7107  36.541830 -121.906112      0         0    36.4  -122.0  \n",
       "7108  36.611835 -121.844602      0         0    36.6  -122.0  \n",
       "7109  36.608890 -121.844710      0         0    36.6  -122.0  \n",
       "7110  36.616112 -121.900658      0         0    36.6  -122.0  \n",
       "\n",
       "[7111 rows x 10 columns]"
      ]
     },
     "execution_count": 123,
     "metadata": {},
     "output_type": "execute_result"
    }
   ],
   "source": [
    "all_df.michelin.replace(('y', 'n'), (1, 0), inplace=True)\n",
    "all_df"
   ]
  },
  {
   "cell_type": "code",
   "execution_count": 131,
   "id": "6d058c6e",
   "metadata": {},
   "outputs": [],
   "source": [
    "# Transform String column \n",
    "def change_string(price):\n",
    "    if price == \"$\":\n",
    "        return 1\n",
    "    elif price == \"$$\":\n",
    "        return 2\n",
    "    elif price == \"$$$\":\n",
    "        return 3\n",
    "    elif price == \"$$$$\":\n",
    "        return 4\n",
    "    else:\n",
    "        return 0\n",
    "    \n",
    "all_df[\"price\"] = all_df[\"price\"].apply(change_string)\n",
    "#df.head()"
   ]
  },
  {
   "cell_type": "code",
   "execution_count": 132,
   "id": "1a5e4ba7",
   "metadata": {},
   "outputs": [],
   "source": [
    "X = all_df[['review_count', 'rating', 'price', 'latBin', 'lonBin']]\n",
    "y = all_df['michelin']"
   ]
  },
  {
   "cell_type": "code",
   "execution_count": 133,
   "id": "ef0feff6",
   "metadata": {},
   "outputs": [],
   "source": [
    "# Use sklearn to split dataset\n",
    "from sklearn.model_selection import train_test_split\n",
    "X_train, X_test, y_train, y_test = train_test_split(X, y, random_state=78)"
   ]
  },
  {
   "cell_type": "code",
   "execution_count": 134,
   "id": "e083bab2",
   "metadata": {},
   "outputs": [],
   "source": [
    " # Create scaler instance\n",
    "X_scaler = skl.preprocessing.StandardScaler()\n",
    "\n",
    "# Fit the scaler\n",
    "X_scaler.fit(X_train)\n",
    "\n",
    "# Scale the data\n",
    "X_train_scaled = X_scaler.transform(X_train)\n",
    "X_test_scaled = X_scaler.transform(X_test)"
   ]
  },
  {
   "cell_type": "code",
   "execution_count": 135,
   "id": "95de568d",
   "metadata": {},
   "outputs": [
    {
     "name": "stdout",
     "output_type": "stream",
     "text": [
      "Model: \"sequential_3\"\n",
      "_________________________________________________________________\n",
      "Layer (type)                 Output Shape              Param #   \n",
      "=================================================================\n",
      "dense_9 (Dense)              (None, 20)                120       \n",
      "_________________________________________________________________\n",
      "dense_10 (Dense)             (None, 10)                210       \n",
      "_________________________________________________________________\n",
      "dense_11 (Dense)             (None, 1)                 11        \n",
      "=================================================================\n",
      "Total params: 341\n",
      "Trainable params: 341\n",
      "Non-trainable params: 0\n",
      "_________________________________________________________________\n"
     ]
    }
   ],
   "source": [
    "# Define the model - deep neural net, i.e., the number of input features and hidden nodes for each layer.\n",
    "number_input_features = len(X_train_scaled[0])\n",
    "hidden_nodes_layer1 = 20\n",
    "hidden_nodes_layer2 = 10\n",
    "\n",
    "nn = tf.keras.models.Sequential()\n",
    "\n",
    "# First hidden layer\n",
    "nn.add(\n",
    "    tf.keras.layers.Dense(units=hidden_nodes_layer1, input_dim=number_input_features, activation=\"relu\")\n",
    ")\n",
    "# Second hidden layer\n",
    "nn.add(tf.keras.layers.Dense(units=hidden_nodes_layer2, activation=\"relu\"))\n",
    "\n",
    "# Output layer\n",
    "nn.add(tf.keras.layers.Dense(units=1, activation=\"sigmoid\"))\n",
    "\n",
    "# Check the structure of the model\n",
    "nn.summary()"
   ]
  },
  {
   "cell_type": "code",
   "execution_count": 136,
   "id": "17eadde1",
   "metadata": {},
   "outputs": [],
   "source": [
    "# Compile the model\n",
    "nn.compile(loss=\"binary_crossentropy\", optimizer=\"adam\", metrics=[\"accuracy\"])"
   ]
  },
  {
   "cell_type": "code",
   "execution_count": 137,
   "id": "f6a467de",
   "metadata": {},
   "outputs": [],
   "source": [
    "# Import checkpoint dependencies\n",
    "import os\n",
    "from tensorflow.keras.callbacks import ModelCheckpoint\n",
    "\n",
    "# Define the checkpoint path and filenames\n",
    "os.makedirs(\"checkpoints/\", exist_ok=True)\n",
    "checkpoint_path = \"checkpoints/weights.{epoch:02d}hdf5\""
   ]
  },
  {
   "cell_type": "code",
   "execution_count": 138,
   "id": "1f4d2a7d",
   "metadata": {},
   "outputs": [
    {
     "name": "stdout",
     "output_type": "stream",
     "text": [
      "WARNING:tensorflow:`period` argument is deprecated. Please use `save_freq` to specify the frequency in number of batches seen.\n",
      "Epoch 1/100\n",
      "167/167 [==============================] - 0s 2ms/step - loss: nan - accuracy: 0.8813\n",
      "Epoch 2/100\n",
      "167/167 [==============================] - 0s 2ms/step - loss: nan - accuracy: 0.9734\n",
      "Epoch 3/100\n",
      "167/167 [==============================] - 0s 2ms/step - loss: nan - accuracy: 0.9734\n",
      "Epoch 4/100\n",
      "167/167 [==============================] - 0s 3ms/step - loss: nan - accuracy: 0.9734\n",
      "Epoch 5/100\n",
      "153/167 [==========================>...] - ETA: 0s - loss: nan - accuracy: 0.9737\n",
      "Epoch 00005: saving model to checkpoints\\weights.05hdf5\n",
      "167/167 [==============================] - 1s 4ms/step - loss: nan - accuracy: 0.9734\n",
      "Epoch 6/100\n",
      "167/167 [==============================] - 0s 3ms/step - loss: nan - accuracy: 0.9734\n",
      "Epoch 7/100\n",
      "167/167 [==============================] - 1s 4ms/step - loss: nan - accuracy: 0.9734\n",
      "Epoch 8/100\n",
      "167/167 [==============================] - 0s 2ms/step - loss: nan - accuracy: 0.9734\n",
      "Epoch 9/100\n",
      "167/167 [==============================] - 0s 2ms/step - loss: nan - accuracy: 0.9734\n",
      "Epoch 10/100\n",
      "151/167 [==========================>...] - ETA: 0s - loss: nan - accuracy: 0.9727\n",
      "Epoch 00010: saving model to checkpoints\\weights.10hdf5\n",
      "167/167 [==============================] - 0s 2ms/step - loss: nan - accuracy: 0.9734\n",
      "Epoch 11/100\n",
      "167/167 [==============================] - 0s 1ms/step - loss: nan - accuracy: 0.9734\n",
      "Epoch 12/100\n",
      "167/167 [==============================] - 0s 1ms/step - loss: nan - accuracy: 0.9734\n",
      "Epoch 13/100\n",
      "167/167 [==============================] - 0s 1ms/step - loss: nan - accuracy: 0.9734\n",
      "Epoch 14/100\n",
      "167/167 [==============================] - 0s 1ms/step - loss: nan - accuracy: 0.9734\n",
      "Epoch 15/100\n",
      "159/167 [===========================>..] - ETA: 0s - loss: nan - accuracy: 0.9729\n",
      "Epoch 00015: saving model to checkpoints\\weights.15hdf5\n",
      "167/167 [==============================] - 0s 2ms/step - loss: nan - accuracy: 0.9734\n",
      "Epoch 16/100\n",
      "167/167 [==============================] - 0s 2ms/step - loss: nan - accuracy: 0.9734\n",
      "Epoch 17/100\n",
      "167/167 [==============================] - 0s 2ms/step - loss: nan - accuracy: 0.9734\n",
      "Epoch 18/100\n",
      "167/167 [==============================] - 0s 2ms/step - loss: nan - accuracy: 0.9734\n",
      "Epoch 19/100\n",
      "167/167 [==============================] - 0s 1ms/step - loss: nan - accuracy: 0.9734\n",
      "Epoch 20/100\n",
      "159/167 [===========================>..] - ETA: 0s - loss: nan - accuracy: 0.9731\n",
      "Epoch 00020: saving model to checkpoints\\weights.20hdf5\n",
      "167/167 [==============================] - 0s 2ms/step - loss: nan - accuracy: 0.9734\n",
      "Epoch 21/100\n",
      "167/167 [==============================] - 0s 2ms/step - loss: nan - accuracy: 0.9734\n",
      "Epoch 22/100\n",
      "167/167 [==============================] - 0s 2ms/step - loss: nan - accuracy: 0.9734\n",
      "Epoch 23/100\n",
      "167/167 [==============================] - 0s 2ms/step - loss: nan - accuracy: 0.9734\n",
      "Epoch 24/100\n",
      "167/167 [==============================] - 0s 2ms/step - loss: nan - accuracy: 0.9734\n",
      "Epoch 25/100\n",
      "141/167 [========================>.....] - ETA: 0s - loss: nan - accuracy: 0.9730\n",
      "Epoch 00025: saving model to checkpoints\\weights.25hdf5\n",
      "167/167 [==============================] - 0s 2ms/step - loss: nan - accuracy: 0.9734\n",
      "Epoch 26/100\n",
      "167/167 [==============================] - 0s 1ms/step - loss: nan - accuracy: 0.9734\n",
      "Epoch 27/100\n",
      "167/167 [==============================] - 0s 2ms/step - loss: nan - accuracy: 0.9734\n",
      "Epoch 28/100\n",
      "167/167 [==============================] - 0s 1ms/step - loss: nan - accuracy: 0.9734\n",
      "Epoch 29/100\n",
      "167/167 [==============================] - 0s 2ms/step - loss: nan - accuracy: 0.9734\n",
      "Epoch 30/100\n",
      "131/167 [======================>.......] - ETA: 0s - loss: nan - accuracy: 0.9723\n",
      "Epoch 00030: saving model to checkpoints\\weights.30hdf5\n",
      "167/167 [==============================] - 0s 2ms/step - loss: nan - accuracy: 0.9734\n",
      "Epoch 31/100\n",
      "167/167 [==============================] - 0s 2ms/step - loss: nan - accuracy: 0.9734\n",
      "Epoch 32/100\n",
      "167/167 [==============================] - 0s 2ms/step - loss: nan - accuracy: 0.9734\n",
      "Epoch 33/100\n",
      "167/167 [==============================] - 0s 1ms/step - loss: nan - accuracy: 0.9734\n",
      "Epoch 34/100\n",
      "167/167 [==============================] - 0s 1ms/step - loss: nan - accuracy: 0.9734\n",
      "Epoch 35/100\n",
      "138/167 [=======================>......] - ETA: 0s - loss: nan - accuracy: 0.9733\n",
      "Epoch 00035: saving model to checkpoints\\weights.35hdf5\n",
      "167/167 [==============================] - 0s 2ms/step - loss: nan - accuracy: 0.9734\n",
      "Epoch 36/100\n",
      "167/167 [==============================] - 0s 1ms/step - loss: nan - accuracy: 0.9734\n",
      "Epoch 37/100\n",
      "167/167 [==============================] - 0s 2ms/step - loss: nan - accuracy: 0.9734\n",
      "Epoch 38/100\n",
      "167/167 [==============================] - 0s 3ms/step - loss: nan - accuracy: 0.9734\n",
      "Epoch 39/100\n",
      "167/167 [==============================] - 0s 3ms/step - loss: nan - accuracy: 0.9734\n",
      "Epoch 40/100\n",
      "157/167 [===========================>..] - ETA: 0s - loss: nan - accuracy: 0.9737\n",
      "Epoch 00040: saving model to checkpoints\\weights.40hdf5\n",
      "167/167 [==============================] - 0s 2ms/step - loss: nan - accuracy: 0.9734\n",
      "Epoch 41/100\n",
      "167/167 [==============================] - 0s 2ms/step - loss: nan - accuracy: 0.9734\n",
      "Epoch 42/100\n",
      "167/167 [==============================] - 0s 2ms/step - loss: nan - accuracy: 0.9734\n",
      "Epoch 43/100\n",
      "167/167 [==============================] - 0s 2ms/step - loss: nan - accuracy: 0.9734\n",
      "Epoch 44/100\n",
      "167/167 [==============================] - 0s 2ms/step - loss: nan - accuracy: 0.9734\n",
      "Epoch 45/100\n",
      "154/167 [==========================>...] - ETA: 0s - loss: nan - accuracy: 0.9746\n",
      "Epoch 00045: saving model to checkpoints\\weights.45hdf5\n",
      "167/167 [==============================] - 0s 2ms/step - loss: nan - accuracy: 0.9734\n",
      "Epoch 46/100\n",
      "167/167 [==============================] - 0s 2ms/step - loss: nan - accuracy: 0.9734\n",
      "Epoch 47/100\n",
      "167/167 [==============================] - 0s 1ms/step - loss: nan - accuracy: 0.9734\n",
      "Epoch 48/100\n",
      "167/167 [==============================] - 0s 1ms/step - loss: nan - accuracy: 0.9734\n",
      "Epoch 49/100\n",
      "167/167 [==============================] - 0s 1ms/step - loss: nan - accuracy: 0.9734\n",
      "Epoch 50/100\n",
      "143/167 [========================>.....] - ETA: 0s - loss: nan - accuracy: 0.9740\n",
      "Epoch 00050: saving model to checkpoints\\weights.50hdf5\n",
      "167/167 [==============================] - 0s 2ms/step - loss: nan - accuracy: 0.9734\n",
      "Epoch 51/100\n",
      "167/167 [==============================] - 0s 2ms/step - loss: nan - accuracy: 0.9734\n",
      "Epoch 52/100\n",
      "167/167 [==============================] - 1s 3ms/step - loss: nan - accuracy: 0.9734\n",
      "Epoch 53/100\n",
      "167/167 [==============================] - 1s 3ms/step - loss: nan - accuracy: 0.9734\n",
      "Epoch 54/100\n",
      "167/167 [==============================] - 0s 2ms/step - loss: nan - accuracy: 0.9734\n",
      "Epoch 55/100\n",
      "151/167 [==========================>...] - ETA: 0s - loss: nan - accuracy: 0.9739\n",
      "Epoch 00055: saving model to checkpoints\\weights.55hdf5\n",
      "167/167 [==============================] - 0s 2ms/step - loss: nan - accuracy: 0.9734\n",
      "Epoch 56/100\n",
      "167/167 [==============================] - 0s 1ms/step - loss: nan - accuracy: 0.9734\n",
      "Epoch 57/100\n",
      "167/167 [==============================] - 0s 1ms/step - loss: nan - accuracy: 0.9734\n",
      "Epoch 58/100\n",
      "167/167 [==============================] - 0s 2ms/step - loss: nan - accuracy: 0.9734\n",
      "Epoch 59/100\n",
      "167/167 [==============================] - 0s 1ms/step - loss: nan - accuracy: 0.9734\n",
      "Epoch 60/100\n",
      "148/167 [=========================>....] - ETA: 0s - loss: nan - accuracy: 0.9730\n",
      "Epoch 00060: saving model to checkpoints\\weights.60hdf5\n",
      "167/167 [==============================] - 0s 2ms/step - loss: nan - accuracy: 0.9734\n",
      "Epoch 61/100\n",
      "167/167 [==============================] - 0s 2ms/step - loss: nan - accuracy: 0.9734\n",
      "Epoch 62/100\n",
      "167/167 [==============================] - 0s 2ms/step - loss: nan - accuracy: 0.9734\n",
      "Epoch 63/100\n",
      "167/167 [==============================] - 0s 1ms/step - loss: nan - accuracy: 0.9734\n",
      "Epoch 64/100\n",
      "167/167 [==============================] - 0s 2ms/step - loss: nan - accuracy: 0.9734\n",
      "Epoch 65/100\n",
      "141/167 [========================>.....] - ETA: 0s - loss: nan - accuracy: 0.9752\n",
      "Epoch 00065: saving model to checkpoints\\weights.65hdf5\n",
      "167/167 [==============================] - 1s 3ms/step - loss: nan - accuracy: 0.9734\n",
      "Epoch 66/100\n",
      "167/167 [==============================] - 0s 2ms/step - loss: nan - accuracy: 0.9734\n",
      "Epoch 67/100\n",
      "167/167 [==============================] - 0s 3ms/step - loss: nan - accuracy: 0.9734\n",
      "Epoch 68/100\n",
      "167/167 [==============================] - 1s 3ms/step - loss: nan - accuracy: 0.9734\n",
      "Epoch 69/100\n",
      "167/167 [==============================] - 0s 2ms/step - loss: nan - accuracy: 0.9734\n",
      "Epoch 70/100\n",
      "155/167 [==========================>...] - ETA: 0s - loss: nan - accuracy: 0.9736\n",
      "Epoch 00070: saving model to checkpoints\\weights.70hdf5\n",
      "167/167 [==============================] - 0s 2ms/step - loss: nan - accuracy: 0.9734\n",
      "Epoch 71/100\n",
      "167/167 [==============================] - 0s 2ms/step - loss: nan - accuracy: 0.9734\n",
      "Epoch 72/100\n",
      "167/167 [==============================] - 0s 2ms/step - loss: nan - accuracy: 0.9734\n",
      "Epoch 73/100\n",
      "167/167 [==============================] - 0s 2ms/step - loss: nan - accuracy: 0.9734\n",
      "Epoch 74/100\n",
      "167/167 [==============================] - 0s 2ms/step - loss: nan - accuracy: 0.9734\n",
      "Epoch 75/100\n",
      "152/167 [==========================>...] - ETA: 0s - loss: nan - accuracy: 0.9735\n",
      "Epoch 00075: saving model to checkpoints\\weights.75hdf5\n",
      "167/167 [==============================] - 0s 2ms/step - loss: nan - accuracy: 0.9734\n",
      "Epoch 76/100\n",
      "167/167 [==============================] - 0s 2ms/step - loss: nan - accuracy: 0.9734\n",
      "Epoch 77/100\n",
      "167/167 [==============================] - 0s 1ms/step - loss: nan - accuracy: 0.9734\n",
      "Epoch 78/100\n",
      "167/167 [==============================] - 0s 1ms/step - loss: nan - accuracy: 0.9734\n",
      "Epoch 79/100\n",
      "167/167 [==============================] - 0s 1ms/step - loss: nan - accuracy: 0.9734\n",
      "Epoch 80/100\n",
      "138/167 [=======================>......] - ETA: 0s - loss: nan - accuracy: 0.9737\n",
      "Epoch 00080: saving model to checkpoints\\weights.80hdf5\n",
      "167/167 [==============================] - 0s 2ms/step - loss: nan - accuracy: 0.9734\n",
      "Epoch 81/100\n",
      "167/167 [==============================] - 0s 2ms/step - loss: nan - accuracy: 0.9734\n",
      "Epoch 82/100\n",
      "167/167 [==============================] - 1s 3ms/step - loss: nan - accuracy: 0.9734\n",
      "Epoch 83/100\n",
      "167/167 [==============================] - 1s 3ms/step - loss: nan - accuracy: 0.9734\n",
      "Epoch 84/100\n",
      "167/167 [==============================] - 0s 1ms/step - loss: nan - accuracy: 0.9734\n",
      "Epoch 85/100\n",
      "157/167 [===========================>..] - ETA: 0s - loss: nan - accuracy: 0.9741\n",
      "Epoch 00085: saving model to checkpoints\\weights.85hdf5\n",
      "167/167 [==============================] - 0s 2ms/step - loss: nan - accuracy: 0.9734\n",
      "Epoch 86/100\n",
      "167/167 [==============================] - 0s 2ms/step - loss: nan - accuracy: 0.9734\n",
      "Epoch 87/100\n",
      "167/167 [==============================] - 0s 2ms/step - loss: nan - accuracy: 0.9734\n",
      "Epoch 88/100\n",
      "167/167 [==============================] - 0s 2ms/step - loss: nan - accuracy: 0.9734\n",
      "Epoch 89/100\n",
      "167/167 [==============================] - 0s 1ms/step - loss: nan - accuracy: 0.9734\n",
      "Epoch 90/100\n",
      "156/167 [===========================>..] - ETA: 0s - loss: nan - accuracy: 0.9732\n",
      "Epoch 00090: saving model to checkpoints\\weights.90hdf5\n",
      "167/167 [==============================] - 0s 2ms/step - loss: nan - accuracy: 0.9734\n",
      "Epoch 91/100\n",
      "167/167 [==============================] - 0s 2ms/step - loss: nan - accuracy: 0.9734A: 0s - loss: nan - accuracy: 0.\n",
      "Epoch 92/100\n",
      "167/167 [==============================] - 0s 2ms/step - loss: nan - accuracy: 0.9734\n",
      "Epoch 93/100\n",
      "167/167 [==============================] - 0s 2ms/step - loss: nan - accuracy: 0.9734\n",
      "Epoch 94/100\n",
      "167/167 [==============================] - 0s 2ms/step - loss: nan - accuracy: 0.9734\n",
      "Epoch 95/100\n",
      "164/167 [============================>.] - ETA: 0s - loss: nan - accuracy: 0.9733\n",
      "Epoch 00095: saving model to checkpoints\\weights.95hdf5\n",
      "167/167 [==============================] - 0s 2ms/step - loss: nan - accuracy: 0.9734\n",
      "Epoch 96/100\n",
      "167/167 [==============================] - 0s 1ms/step - loss: nan - accuracy: 0.9734\n",
      "Epoch 97/100\n",
      "167/167 [==============================] - 0s 2ms/step - loss: nan - accuracy: 0.9734\n",
      "Epoch 98/100\n",
      "167/167 [==============================] - 1s 3ms/step - loss: nan - accuracy: 0.9734\n",
      "Epoch 99/100\n",
      "167/167 [==============================] - 0s 2ms/step - loss: nan - accuracy: 0.9734\n",
      "Epoch 100/100\n",
      "148/167 [=========================>....] - ETA: 0s - loss: nan - accuracy: 0.9728\n",
      "Epoch 00100: saving model to checkpoints\\weights.100hdf5\n",
      "167/167 [==============================] - 0s 2ms/step - loss: nan - accuracy: 0.9734\n"
     ]
    }
   ],
   "source": [
    "# Create a callback that saves the model's weights every 5 epochs\n",
    "cp_callback = ModelCheckpoint(\n",
    "    filepath=checkpoint_path,\n",
    "    verbose=1,\n",
    "    save_weights_only=True,\n",
    "    save_freq='epoch',\n",
    "    period=5)\n",
    "\n",
    "# Train the model\n",
    "fit_model = nn.fit(X_train_scaled, y_train, epochs=100, callbacks=[cp_callback])"
   ]
  },
  {
   "cell_type": "code",
   "execution_count": 139,
   "id": "bdbb9fcf",
   "metadata": {},
   "outputs": [
    {
     "name": "stdout",
     "output_type": "stream",
     "text": [
      "56/56 - 0s - loss: nan - accuracy: 0.9792\n",
      "Loss: nan, Accuracy: 0.9791901111602783\n"
     ]
    }
   ],
   "source": [
    "# Evaluate the model using the test data\n",
    "model_loss, model_accuracy = nn.evaluate(X_test_scaled,y_test,verbose=2)\n",
    "print(f\"Loss: {model_loss}, Accuracy: {model_accuracy}\")"
   ]
  },
  {
   "cell_type": "code",
   "execution_count": 141,
   "id": "18fc7bc3",
   "metadata": {},
   "outputs": [
    {
     "data": {
      "text/plain": [
       "<AxesSubplot:>"
      ]
     },
     "execution_count": 141,
     "metadata": {},
     "output_type": "execute_result"
    },
    {
     "data": {
      "image/png": "[encoded data removed]",
      "text/plain": [
       "<Figure size 432x288 with 1 Axes>"
      ]
     },
     "metadata": {
      "needs_background": "light"
     },
     "output_type": "display_data"
    }
   ],
   "source": [
    "# Plot the accuracy\n",
    "history_df.plot(y=\"accuracy\")"
   ]
  }
 ],
 "metadata": {
  "kernelspec": {
   "display_name": "PythonData",
   "language": "python",
   "name": "pythondata"
  },
  "language_info": {
   "codemirror_mode": {
    "name": "ipython",
    "version": 3
   },
   "file_extension": ".py",
   "mimetype": "text/x-python",
   "name": "python",
   "nbconvert_exporter": "python",
   "pygments_lexer": "ipython3",
   "version": "3.7.10"
  }
 },
 "nbformat": 4,
 "nbformat_minor": 5
}
