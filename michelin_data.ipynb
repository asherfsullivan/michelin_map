{
 "cells": [
  {
   "cell_type": "code",
   "execution_count": 13,
   "id": "e4c0264a",
   "metadata": {},
   "outputs": [],
   "source": [
    "# import libraries\n",
    "import pandas as pd\n",
    "from pathlib import Path "
   ]
  },
  {
   "cell_type": "code",
   "execution_count": 14,
   "id": "da10237e",
   "metadata": {},
   "outputs": [],
   "source": [
    "# load data from csv\n",
    "one_star_data_to_load = ('./Resources/one-star-michelin-restaurants.csv')\n",
    "two_star_data_to_load = ('./Resources/two-stars-michelin-restaurants.csv')\n",
    "three_star_data_to_load = ('./Resources/three-stars-michelin-restaurants.csv')\n",
    "\n",
    "# read the data\n",
    "one_star_df = pd.read_csv(one_star_data_to_load)\n",
    "two_stars_df = pd.read_csv(two_star_data_to_load)\n",
    "three_stars_df = pd.read_csv(three_star_data_to_load)"
   ]
  },
  {
   "cell_type": "code",
   "execution_count": 15,
   "id": "8b12258c",
   "metadata": {},
   "outputs": [],
   "source": [
    "# add a column called \"stars\" to each df\n",
    "one_star_df['stars'] = 1\n",
    "two_stars_df['stars'] = 2\n",
    "three_stars_df['stars'] = 3"
   ]
  },
  {
   "cell_type": "code",
   "execution_count": 16,
   "id": "626a89c1",
   "metadata": {},
   "outputs": [],
   "source": [
    "# combine the data into a single dataset\n",
    "michelin_df = pd.concat([one_star_df, two_stars_df, three_stars_df],ignore_index=True)"
   ]
  },
  {
   "cell_type": "code",
   "execution_count": 18,
   "id": "3dc6bddb",
   "metadata": {},
   "outputs": [],
   "source": [
    "# save df as csv and save to Resources folder \n",
    "filepath = Path('./Resources/michelin_data.csv')  \n",
    "michelin_df.to_csv(filepath,index=False)  "
   ]
  },
  {
   "cell_type": "code",
   "execution_count": null,
   "id": "82b63cca",
   "metadata": {},
   "outputs": [],
   "source": []
  }
 ],
 "metadata": {
  "kernelspec": {
   "display_name": "PythonData",
   "language": "python",
   "name": "pythondata"
  },
  "language_info": {
   "codemirror_mode": {
    "name": "ipython",
    "version": 3
   },
   "file_extension": ".py",
   "mimetype": "text/x-python",
   "name": "python",
   "nbconvert_exporter": "python",
   "pygments_lexer": "ipython3",
   "version": "3.7.10"
  }
 },
 "nbformat": 4,
 "nbformat_minor": 5
}
