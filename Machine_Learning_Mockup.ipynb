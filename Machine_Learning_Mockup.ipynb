{
 "cells": [
  {
   "cell_type": "code",
   "execution_count": null,
   "id": "36c67875",
   "metadata": {},
   "outputs": [],
   "source": [
    "#We will be using a Deep Learning Model because we have 5 Classifications (1-5 star yelp ratings) and whether those correlate to a 1-3 Michelin Star resturant.\n",
    "\n",
    "# Import our dependencies\n",
    "from sklearn.model_selection import train_test_split\n",
    "from sklearn.preprocessing import StandardScaler,OneHotEncoder\n",
    "import pandas as pd\n",
    "import tensorflow as tf\n",
    "\n",
    "#  Import and read the charity_data.csv.\n",
    "import pandas as pd \n",
    "michelin_star_df = pd.read_csv(\"michelin_star_data_cleaned.csv\") # this will be the cleaned data from a previous step\n",
    "michelin_star_df.head()"
   ]
  },
  {
   "cell_type": "code",
   "execution_count": null,
   "id": "341dede8",
   "metadata": {},
   "outputs": [],
   "source": [
    "# Drop any non-beneficial columns.\n",
    "michelin_star_df = application_df.drop(columns =['XXXX','YYYY','ZZZZ'])"
   ]
  },
  {
   "cell_type": "code",
   "execution_count": null,
   "id": "19b0884e",
   "metadata": {},
   "outputs": [],
   "source": [
    "# Determine the number of unique values in each column.\n",
    "michelin_star_df.nunique()"
   ]
  },
  {
   "cell_type": "code",
   "execution_count": null,
   "id": "1077b4e8",
   "metadata": {},
   "outputs": [],
   "source": [
    "# Look at Yelp Star Review value counts for binning\n",
    "yelp_counts = michelin_star_df.YELPSTARREVIEWS.value_counts()\n",
    "yelp_counts"
   ]
  },
  {
   "cell_type": "code",
   "execution_count": null,
   "id": "d205ea47",
   "metadata": {},
   "outputs": [],
   "source": [
    "# Visualize the value counts of YELPSTARREVIEWS\n",
    "yelp_counts.plot.density()"
   ]
  },
  {
   "cell_type": "code",
   "execution_count": null,
   "id": "e92591bc",
   "metadata": {},
   "outputs": [],
   "source": [
    "# Determine which values to replace if counts are less than ...? May need to write a for loop in the case that the numbers are between whole numbers (4.6,etc.)\n",
    "replace_yelp = list(yelp_counts[yelp_counts < 528].index)\n",
    "\n",
    "# Replace in dataframe\n",
    "for app in replace_yelp:\n",
    "    michelin_star_df.YELPSTARREVIEWS = michelin_star_df.YELPSTARREVIEWS.replace(app,\"Other\")\n",
    "    \n",
    "# Check to make sure binning was successful\n",
    "michelin_star_df.YELPSTARREVIEWS.value_counts()"
   ]
  },
  {
   "cell_type": "code",
   "execution_count": null,
   "id": "b3ded2cd",
   "metadata": {},
   "outputs": [],
   "source": [
    "# Look at MICHELINSTARS value counts for binning\n",
    "michelinstars_counts = michelin_star_df.MICHELINSTARS.value_counts()\n",
    "michelinstars_counts"
   ]
  },
  {
   "cell_type": "code",
   "execution_count": null,
   "id": "6880b013",
   "metadata": {},
   "outputs": [],
   "source": [
    "# Visualize the value counts of MICHELINSTARS\n",
    "michelinstars_counts.plot.density()"
   ]
  },
  {
   "cell_type": "code",
   "execution_count": null,
   "id": "ad4319a0",
   "metadata": {},
   "outputs": [],
   "source": [
    "# Determine which values to replace if counts are less than ..? # Same as before. THis may not be necessary. \n",
    "replace_michelin = list(michelinstars_counts[michelinstars_counts < 1883].index)\n",
    "\n",
    "# Replace in dataframe\n",
    "for cls in replace_michelin:\n",
    "   michelin_star_df.MICHELINSTARS = michelin_star_df.MICHELINSTARS.replace(cls,\"Other\")\n",
    "    \n",
    "# Check to make sure binning was successful\n",
    "michelin_star_df.MICHELINSTARS.value_counts()"
   ]
  },
  {
   "cell_type": "code",
   "execution_count": null,
   "id": "e1a6163c",
   "metadata": {},
   "outputs": [],
   "source": [
    "# Generate our categorical variable lists\n",
    "michelin_cat = michelin_star_df.dtypes[michelin_star_df.dtypes == \"object\"].index.tolist()"
   ]
  },
  {
   "cell_type": "code",
   "execution_count": null,
   "id": "db0bbb3d",
   "metadata": {},
   "outputs": [],
   "source": [
    "# Create a OneHotEncoder instance\n",
    "enc = OneHotEncoder(sparse=False)\n",
    "\n",
    "# Fit and transform the OneHotEncoder using the categorical variable list\n",
    "encode_df = pd.DataFrame(enc.fit_transform(michelin_star_df[michelin_cat]))\n",
    "\n",
    "# Add the encoded variable names to the dataframe\n",
    "encode_df.columns = enc.get_feature_names(michelin_cat)\n",
    "encode_df.head()"
   ]
  },
  {
   "cell_type": "code",
   "execution_count": null,
   "id": "a6557c3b",
   "metadata": {},
   "outputs": [],
   "source": [
    "# Merge one-hot encoded features and drop the originals\n",
    "michelin_star_df = michelin_star_df.merge(encode_df,left_index=True, right_index=True)\n",
    "michelin_star_df = michelin_star_df.drop(michelin_cat,1)\n",
    "michelin_star_df.head()"
   ]
  },
  {
   "cell_type": "code",
   "execution_count": null,
   "id": "772e9112",
   "metadata": {},
   "outputs": [],
   "source": [
    "# Split our preprocessed data into our features and target arrays\n",
    "y = michelin_star_df['XXXXX'].values\n",
    "X = michelin_star_df.drop(['XXXXX'], 1).values\n",
    "\n",
    "# Split the preprocessed data into a training and testing dataset\n",
    "X_train, X_test, y_train, y_test = train_test_split(X, y, random_state=42, stratify=y)"
   ]
  },
  {
   "cell_type": "code",
   "execution_count": null,
   "id": "72ed4a71",
   "metadata": {},
   "outputs": [],
   "source": [
    "# Create a StandardScaler instances\n",
    "scaler = StandardScaler()\n",
    "\n",
    "# Fit the StandardScaler\n",
    "X_scaler = scaler.fit(X_train)\n",
    "\n",
    "# Scale the data\n",
    "X_train_scaled = X_scaler.transform(X_train)\n",
    "X_test_scaled = X_scaler.transform(X_test)"
   ]
  },
  {
   "cell_type": "code",
   "execution_count": null,
   "id": "c177af90",
   "metadata": {},
   "outputs": [],
   "source": [
    "# Define the model - deep neural net, i.e., the number of input features and hidden nodes for each layer.\n",
    "number_input_features = len(X_train_scaled[0])\n",
    "hidden_nodes_layer1 = 80\n",
    "hidden_nodes_layer2 = 30\n",
    "\n",
    "nn = tf.keras.models.Sequential()\n",
    "\n",
    "# First hidden layer\n",
    "nn.add(\n",
    "    tf.keras.layers.Dense(units=hidden_nodes_layer1, input_dim=number_input_features, activation=\"relu\")\n",
    ")\n",
    "\n",
    "# Second hidden layer\n",
    "nn.add(tf.keras.layers.Dense(units=hidden_nodes_layer2, activation=\"relu\"))\n",
    "\n",
    "# Output layer\n",
    "nn.add(tf.keras.layers.Dense(units=1, activation=\"sigmoid\"))\n",
    "\n",
    "# Check the structure of the model\n",
    "nn.summary()"
   ]
  },
  {
   "cell_type": "code",
   "execution_count": null,
   "id": "97f1d6b2",
   "metadata": {},
   "outputs": [],
   "source": [
    "# Compile the model\n",
    "nn.compile(loss=\"binary_crossentropy\", optimizer=\"adam\", metrics=[\"accuracy\"])"
   ]
  },
  {
   "cell_type": "code",
   "execution_count": null,
   "id": "6499f7d2",
   "metadata": {},
   "outputs": [],
   "source": [
    "# Import checkpoint dependencies\n",
    "import os\n",
    "from tensorflow.keras.callbacks import ModelCheckpoint\n",
    "\n",
    "# Define the checkpoint path and filenames\n",
    "os.makedirs(\"checkpoints/\", exist_ok=True)\n",
    "checkpoint_path = \"checkpoints/weights.{epoch:02d}hdf5\""
   ]
  },
  {
   "cell_type": "code",
   "execution_count": null,
   "id": "16aac925",
   "metadata": {},
   "outputs": [],
   "source": [
    "# Create a callback that saves the model's weights every 5 epochs\n",
    "cp_callback = ModelCheckpoint(\n",
    "    filepath=checkpoint_path,\n",
    "    verbose=1,\n",
    "    save_weights_only=True,\n",
    "    save_freq='epoch',\n",
    "    period=5)\n",
    "\n",
    "# Train the model\n",
    "fit_model = nn.fit(X_train_scaled, y_train, epochs=100, callbacks=[cp_callback])"
   ]
  },
  {
   "cell_type": "code",
   "execution_count": null,
   "id": "0743eea0",
   "metadata": {},
   "outputs": [],
   "source": [
    "# Evaluate the model using the test data\n",
    "model_loss, model_accuracy = nn.evaluate(X_test_scaled,y_test,verbose=2)\n",
    "print(f\"Loss: {model_loss}, Accuracy: {model_accuracy}\")"
   ]
  }
 ],
 "metadata": {
  "kernelspec": {
   "display_name": "mlenv",
   "language": "python",
   "name": "mlenv"
  },
  "language_info": {
   "codemirror_mode": {
    "name": "ipython",
    "version": 3
   },
   "file_extension": ".py",
   "mimetype": "text/x-python",
   "name": "python",
   "nbconvert_exporter": "python",
   "pygments_lexer": "ipython3",
   "version": "3.7.11"
  }
 },
 "nbformat": 4,
 "nbformat_minor": 5
}
