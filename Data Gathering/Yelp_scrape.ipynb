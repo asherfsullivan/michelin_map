{
 "cells": [
  {
   "cell_type": "code",
   "execution_count": 11,
   "id": "9df5fae4",
   "metadata": {},
   "outputs": [],
   "source": [
    "import requests, bs4, time, csv, math\n",
    "from pathlib import Path \n",
    "import pandas as pd\n",
    "from bs4 import BeautifulSoup as bs\n",
    "from splinter import Browser\n",
    "from webdriver_manager.chrome import ChromeDriverManager\n",
    "from selenium import webdriver\n",
    "from selenium.webdriver.common.by import By\n",
    "from selenium.webdriver.chrome.service import Service as ChromeService"
   ]
  },
  {
   "cell_type": "code",
   "execution_count": 12,
   "id": "3ddd0a0f",
   "metadata": {},
   "outputs": [],
   "source": [
    "# load michelin data\n",
    "data_to_load = ('./Resources/all_michelin_data.csv')\n",
    "\n",
    "# read the data\n",
    "df = pd.read_csv(data_to_load)\n",
    "urls = df.yelp_url"
   ]
  },
  {
   "cell_type": "code",
   "execution_count": 13,
   "id": "04bd7e76",
   "metadata": {},
   "outputs": [
    {
     "data": {
      "text/plain": [
       "0      https://www.yelp.com/biz/chez-tj-mountain-view...\n",
       "1      https://www.yelp.com/biz/prot%C3%A9g%C3%A9-pal...\n",
       "2      https://www.yelp.com/biz/madera-menlo-park?osq...\n",
       "3      https://www.yelp.com/biz/the-village-pub-woods...\n",
       "4      https://www.yelp.com/biz/plumed-horse-saratoga...\n",
       "                             ...                        \n",
       "174             https://www.yelp.com/biz/per-se-new-york\n",
       "175       https://www.yelp.com/biz/le-bernardin-new-york\n",
       "176    https://www.yelp.com/biz/eleven-madison-park-n...\n",
       "177    https://www.yelp.com/biz/chefs-table-at-brookl...\n",
       "178    https://www.yelp.com/biz/the-inn-at-little-was...\n",
       "Name: yelp_url, Length: 179, dtype: object"
      ]
     },
     "execution_count": 13,
     "metadata": {},
     "output_type": "execute_result"
    }
   ],
   "source": [
    "urls"
   ]
  },
  {
   "cell_type": "code",
   "execution_count": 14,
   "id": "60804fc1",
   "metadata": {},
   "outputs": [
    {
     "name": "stderr",
     "output_type": "stream",
     "text": [
      "\n",
      "\n",
      "====== WebDriver manager ======\n",
      "Current google-chrome version is 100.0.4896\n",
      "Get LATEST chromedriver version for 100.0.4896 google-chrome\n",
      "Driver [C:\\Users\\heath\\.wdm\\drivers\\chromedriver\\win32\\100.0.4896.60\\chromedriver.exe] found in cache\n"
     ]
    }
   ],
   "source": [
    "executable_path = {'executable_path': ChromeDriverManager().install()}\n",
    "browser = Browser('chrome', **executable_path, headless=False)"
   ]
  },
  {
   "cell_type": "code",
   "execution_count": 16,
   "id": "4a66c4ca",
   "metadata": {},
   "outputs": [],
   "source": [
    "#get name\n",
    "name_list = []\n",
    "\n",
    "\n",
    "try:\n",
    "    for url in urls:\n",
    "        browser.visit(url)\n",
    "        restaurant_name = browser.find_by_css('h1[class=\"css-12dgwvn\"]').text\n",
    "        name_list.append(restaurant_name)\n",
    "    else:\n",
    "        restaurant_name = \"unknown\"\n",
    "        name_list.append(restaurant_name)\n",
    "except: \n",
    "    pass"
   ]
  },
  {
   "cell_type": "code",
   "execution_count": 18,
   "id": "77d6392a",
   "metadata": {},
   "outputs": [
    {
     "name": "stderr",
     "output_type": "stream",
     "text": [
      "C:\\Users\\heath\\anaconda3\\envs\\PythonData\\lib\\site-packages\\selenium\\webdriver\\remote\\webelement.py:502: UserWarning: find_elements_by_* commands are deprecated. Please use find_elements() instead\n",
      "  warnings.warn(\"find_elements_by_* commands are deprecated. Please use find_elements() instead\")\n"
     ]
    }
   ],
   "source": [
    "#get review counts\n",
    "review_count_list = []\n",
    "\n",
    "try:\n",
    "    \n",
    "    for url in urls:\n",
    "        browser.visit(url)\n",
    "        sidebar = browser.find_by_css('div[class=\" arrange-unit__09f24__rqHTg arrange-unit-fill__09f24__CUubG border-color--default__09f24__NPAKY nowrap__09f24__lBkC2\"]').first\n",
    "        review_count = sidebar.find_by_css('span[class=\" css-1fdy0l5\"]').text\n",
    "        review_count_list.append(review_count)\n",
    "    else: \n",
    "        review_count = \"unknown\"\n",
    "        review_count_list.append(review_count)\n",
    "except: \n",
    "    pass"
   ]
  },
  {
   "cell_type": "code",
   "execution_count": 21,
   "id": "872049d9",
   "metadata": {},
   "outputs": [],
   "source": [
    "#get rating counts\n",
    "rating_list = []\n",
    "\n",
    "try:\n",
    "    \n",
    "    for url in urls:\n",
    "        browser.visit(url)\n",
    "        element = browser.find_by_xpath(\".//div[contains(@class,'i-stars')]\")\n",
    "        rating = element['aria-label']\n",
    "        rating_list.append(rating)\n",
    "    else: \n",
    "        rating = \"unknown\"\n",
    "        rating_list.append(rating)\n",
    "except: \n",
    "    pass"
   ]
  },
  {
   "cell_type": "code",
   "execution_count": 22,
   "id": "b3b74f5b",
   "metadata": {},
   "outputs": [],
   "source": [
    "#get rating counts\n",
    "price_list = []\n",
    "\n",
    "try:\n",
    "    \n",
    "    for url in urls:\n",
    "        browser.visit(url)\n",
    "        #sidebar = browser.find_by_css('div[class=\" arrange-unit__09f24__rqHTg arrange-unit-fill__09f24__CUubG border-color--default__09f24__NPAKY\"]')\n",
    "        #element = browser.find_by_css('span[class=\" display--inline__09f24__c6N_k margin-r1__09f24__rN_ga border-color--default__09f24__NPAKY\"]')\n",
    "        price = browser.find_by_css('span[class=\" css-1ir4e44\"]').text\n",
    "        price_list.append(price)\n",
    "    else: \n",
    "        price = \"unknown\"\n",
    "        price_list.append(price)\n",
    "except:\n",
    "    pass"
   ]
  },
  {
   "cell_type": "code",
   "execution_count": null,
   "id": "2c1b788d",
   "metadata": {},
   "outputs": [],
   "source": [
    "#save as df\n",
    "#create df with the data\n",
    "michelin_yelp_df = pd.DataFrame()\n",
    "\n",
    "michelin_yelp_df[\"name\"] = name_list\n",
    "michelin_yelp_df[\"review count\"] = review_count_list\n",
    "michelin_yelp_df[\"rating\"] = rating_list\n",
    "michelin_yelp_df[\"price rating\"] = price_list"
   ]
  },
  {
   "cell_type": "code",
   "execution_count": 24,
   "id": "42c5679c",
   "metadata": {},
   "outputs": [],
   "source": [
    "# load final datamichelin data\n",
    "data_to_load = ('./Resources/michelin_ML.csv')\n",
    "\n",
    "# read the data\n",
    "df1 = pd.read_csv(data_to_load)"
   ]
  },
  {
   "cell_type": "code",
   "execution_count": 25,
   "id": "22b83fa8",
   "metadata": {},
   "outputs": [],
   "source": [
    "#insert data into a database\n",
    "import sqlite3\n",
    "connection = sqlite3.connect(':memory:')\n",
    "\n",
    "df1.to_sql(name='michelin_yelp_data', con=connection)"
   ]
  },
  {
   "cell_type": "code",
   "execution_count": null,
   "id": "5f1fb4b1",
   "metadata": {},
   "outputs": [],
   "source": []
  }
 ],
 "metadata": {
  "kernelspec": {
   "display_name": "PythonData",
   "language": "python",
   "name": "pythondata"
  },
  "language_info": {
   "codemirror_mode": {
    "name": "ipython",
    "version": 3
   },
   "file_extension": ".py",
   "mimetype": "text/x-python",
   "name": "python",
   "nbconvert_exporter": "python",
   "pygments_lexer": "ipython3",
   "version": "3.7.10"
  }
 },
 "nbformat": 4,
 "nbformat_minor": 5
}
