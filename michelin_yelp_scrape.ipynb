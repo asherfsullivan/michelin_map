{
 "cells": [
  {
   "cell_type": "code",
   "execution_count": 72,
   "id": "7dcacc04",
   "metadata": {},
   "outputs": [],
   "source": [
    "import requests, bs4, time, csv, math\n",
    "from pathlib import Path \n",
    "import pandas as pd\n",
    "from bs4 import BeautifulSoup as bs\n",
    "from splinter import Browser\n",
    "from webdriver_manager.chrome import ChromeDriverManager\n",
    "from selenium import webdriver\n",
    "from selenium.webdriver.common.by import By\n",
    "from selenium.webdriver.chrome.service import Service as ChromeService"
   ]
  },
  {
   "cell_type": "code",
   "execution_count": 4,
   "id": "65c5eb7d",
   "metadata": {},
   "outputs": [],
   "source": [
    "#get yelp urls from ca dataset\n",
    "ca_michelin_data_to_load = ('./Resources/ca_michelin_restaurant_data.csv')\n",
    "\n",
    "# read the data\n",
    "ca_michelin_df = pd.read_csv(ca_michelin_data_to_load)"
   ]
  },
  {
   "cell_type": "code",
   "execution_count": 5,
   "id": "a689dc5b",
   "metadata": {},
   "outputs": [
    {
     "name": "stderr",
     "output_type": "stream",
     "text": [
      "\n",
      "\n",
      "====== WebDriver manager ======\n",
      "Current google-chrome version is 99.0.4844\n",
      "Get LATEST chromedriver version for 99.0.4844 google-chrome\n",
      "Trying to download new driver from https://chromedriver.storage.googleapis.com/99.0.4844.51/chromedriver_win32.zip\n",
      "Driver has been saved in cache [C:\\Users\\heath\\.wdm\\drivers\\chromedriver\\win32\\99.0.4844.51]\n"
     ]
    }
   ],
   "source": [
    "executable_path = {'executable_path': ChromeDriverManager().install()}\n",
    "browser = Browser('chrome', **executable_path, headless=False)"
   ]
  },
  {
   "cell_type": "code",
   "execution_count": 16,
   "id": "8362435c",
   "metadata": {
    "scrolled": true
   },
   "outputs": [
    {
     "ename": "AttributeError",
     "evalue": "'WebDriver' object has no attribute 'close'",
     "output_type": "error",
     "traceback": [
      "\u001b[1;31m---------------------------------------------------------------------------\u001b[0m",
      "\u001b[1;31mAttributeError\u001b[0m                            Traceback (most recent call last)",
      "\u001b[1;32m<ipython-input-16-cbfb4f28a3d2>\u001b[0m in \u001b[0;36m<module>\u001b[1;34m\u001b[0m\n\u001b[0;32m     12\u001b[0m     \u001b[0mrestaurant_name\u001b[0m \u001b[1;33m=\u001b[0m \u001b[1;34m\"unknown\"\u001b[0m\u001b[1;33m\u001b[0m\u001b[1;33m\u001b[0m\u001b[0m\n\u001b[0;32m     13\u001b[0m     \u001b[0mname_list\u001b[0m\u001b[1;33m.\u001b[0m\u001b[0mappend\u001b[0m\u001b[1;33m(\u001b[0m\u001b[0mrestaurant_name\u001b[0m\u001b[1;33m)\u001b[0m\u001b[1;33m\u001b[0m\u001b[1;33m\u001b[0m\u001b[0m\n\u001b[1;32m---> 14\u001b[1;33m \u001b[0mbrowser\u001b[0m\u001b[1;33m.\u001b[0m\u001b[0mclose\u001b[0m\u001b[1;33m(\u001b[0m\u001b[1;33m)\u001b[0m\u001b[1;33m\u001b[0m\u001b[1;33m\u001b[0m\u001b[0m\n\u001b[0m",
      "\u001b[1;31mAttributeError\u001b[0m: 'WebDriver' object has no attribute 'close'"
     ]
    }
   ],
   "source": [
    "#get Yelp data for each Michelin restaurant\n",
    "urls = ca_michelin_df['yelp url'].tolist()\n",
    "\n",
    "#get name\n",
    "name_list = []\n",
    "\n",
    "for url in urls:\n",
    "    browser.visit(url)\n",
    "    restaurant_name = browser.find_by_css('h1[class=\"css-12dgwvn\"]').text\n",
    "    name_list.append(restaurant_name)\n",
    "else:\n",
    "    restaurant_name = \"unknown\"\n",
    "    name_list.append(restaurant_name)     "
   ]
  },
  {
   "cell_type": "code",
   "execution_count": 39,
   "id": "c0647f83",
   "metadata": {},
   "outputs": [
    {
     "name": "stderr",
     "output_type": "stream",
     "text": [
      "C:\\Users\\heath\\anaconda3\\envs\\PythonData\\lib\\site-packages\\selenium\\webdriver\\remote\\webelement.py:502: UserWarning: find_elements_by_* commands are deprecated. Please use find_elements() instead\n",
      "  warnings.warn(\"find_elements_by_* commands are deprecated. Please use find_elements() instead\")\n"
     ]
    }
   ],
   "source": [
    "#get review counts\n",
    "review_count_list = []\n",
    "\n",
    "for url in urls:\n",
    "    browser.visit(url)\n",
    "    sidebar = browser.find_by_css('div[class=\" arrange-unit__09f24__rqHTg arrange-unit-fill__09f24__CUubG border-color--default__09f24__NPAKY nowrap__09f24__lBkC2\"]')\n",
    "    review_count = sidebar.first.find_by_css('span[class=\" css-1fdy0l5\"]').text\n",
    "    review_count_list.append(review_count)\n",
    "else: \n",
    "    review_count = \"unknown\"\n",
    "    review_count_list.append(review_count)"
   ]
  },
  {
   "cell_type": "code",
   "execution_count": 42,
   "id": "4cb76309",
   "metadata": {},
   "outputs": [],
   "source": [
    "#get rating counts\n",
    "rating_list = []\n",
    "\n",
    "for url in urls:\n",
    "    browser.visit(url)\n",
    "    element = browser.find_by_xpath(\".//div[contains(@class,'i-stars')]\")\n",
    "    rating = element['aria-label']\n",
    "    rating_list.append(rating)\n",
    "else: \n",
    "    rating = \"unknown\"\n",
    "    rating_list.append(rating)"
   ]
  },
  {
   "cell_type": "code",
   "execution_count": 57,
   "id": "a3908ba3",
   "metadata": {},
   "outputs": [],
   "source": [
    "#get rating counts\n",
    "price_list = []\n",
    "for url in urls:\n",
    "    browser.visit(url)\n",
    "    #sidebar = browser.find_by_css('div[class=\" arrange-unit__09f24__rqHTg arrange-unit-fill__09f24__CUubG border-color--default__09f24__NPAKY\"]')\n",
    "    #element = browser.find_by_css('span[class=\" display--inline__09f24__c6N_k margin-r1__09f24__rN_ga border-color--default__09f24__NPAKY\"]')\n",
    "    price = browser.find_by_css('span[class=\" css-1ir4e44\"]').text\n",
    "    price_list.append(price)\n",
    "else: \n",
    "    price = \"unknown\"\n",
    "    price_list.append(price)"
   ]
  },
  {
   "cell_type": "code",
   "execution_count": 67,
   "id": "9fbb4f33",
   "metadata": {},
   "outputs": [],
   "source": [
    "#create df with the data\n",
    "michelin_yelp_df = pd.DataFrame()\n",
    "\n",
    "michelin_yelp_df[\"name\"] = name_list\n",
    "michelin_yelp_df[\"review count\"] = review_count_list\n",
    "michelin_yelp_df[\"rating\"] = rating_list\n",
    "michelin_yelp_df[\"price rating\"] = price_list"
   ]
  },
  {
   "cell_type": "code",
   "execution_count": 74,
   "id": "d07884a9",
   "metadata": {
    "scrolled": true
   },
   "outputs": [
    {
     "data": {
      "text/html": [
       "<div>\n",
       "<style scoped>\n",
       "    .dataframe tbody tr th:only-of-type {\n",
       "        vertical-align: middle;\n",
       "    }\n",
       "\n",
       "    .dataframe tbody tr th {\n",
       "        vertical-align: top;\n",
       "    }\n",
       "\n",
       "    .dataframe thead th {\n",
       "        text-align: right;\n",
       "    }\n",
       "</style>\n",
       "<table border=\"1\" class=\"dataframe\">\n",
       "  <thead>\n",
       "    <tr style=\"text-align: right;\">\n",
       "      <th></th>\n",
       "      <th>name</th>\n",
       "      <th>review count</th>\n",
       "      <th>rating</th>\n",
       "      <th>price rating</th>\n",
       "    </tr>\n",
       "  </thead>\n",
       "  <tbody>\n",
       "    <tr>\n",
       "      <th>0</th>\n",
       "      <td>Chez TJ</td>\n",
       "      <td>735 reviews</td>\n",
       "      <td>4 star rating</td>\n",
       "      <td>$$$$</td>\n",
       "    </tr>\n",
       "    <tr>\n",
       "      <th>1</th>\n",
       "      <td>Protégé</td>\n",
       "      <td>348 reviews</td>\n",
       "      <td>4.5 star rating</td>\n",
       "      <td>$$$$</td>\n",
       "    </tr>\n",
       "    <tr>\n",
       "      <th>2</th>\n",
       "      <td>Madera</td>\n",
       "      <td>886 reviews</td>\n",
       "      <td>3.5 star rating</td>\n",
       "      <td>$$$</td>\n",
       "    </tr>\n",
       "    <tr>\n",
       "      <th>3</th>\n",
       "      <td>The Village Pub</td>\n",
       "      <td>1088 reviews</td>\n",
       "      <td>4 star rating</td>\n",
       "      <td>$$$$</td>\n",
       "    </tr>\n",
       "    <tr>\n",
       "      <th>4</th>\n",
       "      <td>Plumed Horse</td>\n",
       "      <td>1244 reviews</td>\n",
       "      <td>4 star rating</td>\n",
       "      <td>$$$$</td>\n",
       "    </tr>\n",
       "    <tr>\n",
       "      <th>...</th>\n",
       "      <td>...</td>\n",
       "      <td>...</td>\n",
       "      <td>...</td>\n",
       "      <td>...</td>\n",
       "    </tr>\n",
       "    <tr>\n",
       "      <th>77</th>\n",
       "      <td>Quince</td>\n",
       "      <td>1521 reviews</td>\n",
       "      <td>4 star rating</td>\n",
       "      <td>$$$$</td>\n",
       "    </tr>\n",
       "    <tr>\n",
       "      <th>78</th>\n",
       "      <td>Atelier Crenn</td>\n",
       "      <td>787 reviews</td>\n",
       "      <td>4.5 star rating</td>\n",
       "      <td>$$$$</td>\n",
       "    </tr>\n",
       "    <tr>\n",
       "      <th>79</th>\n",
       "      <td>The French Laundry</td>\n",
       "      <td>2751 reviews</td>\n",
       "      <td>4.5 star rating</td>\n",
       "      <td>$$$$</td>\n",
       "    </tr>\n",
       "    <tr>\n",
       "      <th>80</th>\n",
       "      <td>The Restaurant At Meadowood</td>\n",
       "      <td>539 reviews</td>\n",
       "      <td>4 star rating</td>\n",
       "      <td>$$$$</td>\n",
       "    </tr>\n",
       "    <tr>\n",
       "      <th>81</th>\n",
       "      <td>SingleThread Farm - Restaurant- Inn</td>\n",
       "      <td>291 reviews</td>\n",
       "      <td>4.5 star rating</td>\n",
       "      <td>$$$$</td>\n",
       "    </tr>\n",
       "  </tbody>\n",
       "</table>\n",
       "<p>82 rows × 4 columns</p>\n",
       "</div>"
      ],
      "text/plain": [
       "                                   name  review count           rating  \\\n",
       "0                               Chez TJ   735 reviews    4 star rating   \n",
       "1                               Protégé   348 reviews  4.5 star rating   \n",
       "2                                Madera   886 reviews  3.5 star rating   \n",
       "3                       The Village Pub  1088 reviews    4 star rating   \n",
       "4                          Plumed Horse  1244 reviews    4 star rating   \n",
       "..                                  ...           ...              ...   \n",
       "77                               Quince  1521 reviews    4 star rating   \n",
       "78                        Atelier Crenn   787 reviews  4.5 star rating   \n",
       "79                   The French Laundry  2751 reviews  4.5 star rating   \n",
       "80          The Restaurant At Meadowood   539 reviews    4 star rating   \n",
       "81  SingleThread Farm - Restaurant- Inn   291 reviews  4.5 star rating   \n",
       "\n",
       "   price rating  \n",
       "0          $$$$  \n",
       "1          $$$$  \n",
       "2           $$$  \n",
       "3          $$$$  \n",
       "4          $$$$  \n",
       "..          ...  \n",
       "77         $$$$  \n",
       "78         $$$$  \n",
       "79         $$$$  \n",
       "80         $$$$  \n",
       "81         $$$$  \n",
       "\n",
       "[82 rows x 4 columns]"
      ]
     },
     "execution_count": 74,
     "metadata": {},
     "output_type": "execute_result"
    }
   ],
   "source": [
    "michelin_yelp_df = michelin_yelp_df.drop([82])\n",
    "michelin_yelp_df"
   ]
  },
  {
   "cell_type": "code",
   "execution_count": 75,
   "id": "95bfa660",
   "metadata": {},
   "outputs": [],
   "source": [
    "# save df as csv and save to Resources folder \n",
    "filepath = Path('./Resources/michelin_yelp_data.csv')  \n",
    "michelin_yelp_df.to_csv(filepath,index=False)  "
   ]
  }
 ],
 "metadata": {
  "kernelspec": {
   "display_name": "PythonData",
   "language": "python",
   "name": "pythondata"
  },
  "language_info": {
   "codemirror_mode": {
    "name": "ipython",
    "version": 3
   },
   "file_extension": ".py",
   "mimetype": "text/x-python",
   "name": "python",
   "nbconvert_exporter": "python",
   "pygments_lexer": "ipython3",
   "version": "3.7.10"
  }
 },
 "nbformat": 4,
 "nbformat_minor": 5
}
