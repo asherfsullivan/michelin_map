{
 "cells": [
  {
   "cell_type": "code",
   "execution_count": 1,
   "id": "eda38809",
   "metadata": {},
   "outputs": [
    {
     "data": {
      "text/html": [
       "<div>\n",
       "<style scoped>\n",
       "    .dataframe tbody tr th:only-of-type {\n",
       "        vertical-align: middle;\n",
       "    }\n",
       "\n",
       "    .dataframe tbody tr th {\n",
       "        vertical-align: top;\n",
       "    }\n",
       "\n",
       "    .dataframe thead th {\n",
       "        text-align: right;\n",
       "    }\n",
       "</style>\n",
       "<table border=\"1\" class=\"dataframe\">\n",
       "  <thead>\n",
       "    <tr style=\"text-align: right;\">\n",
       "      <th></th>\n",
       "      <th>name</th>\n",
       "      <th>review count</th>\n",
       "      <th>rating</th>\n",
       "      <th>price rating</th>\n",
       "      <th>year</th>\n",
       "      <th>latitude</th>\n",
       "      <th>longitude</th>\n",
       "      <th>city</th>\n",
       "      <th>region</th>\n",
       "      <th>zipCode</th>\n",
       "      <th>cuisine</th>\n",
       "      <th>price</th>\n",
       "      <th>url</th>\n",
       "      <th>stars</th>\n",
       "      <th>yelp url</th>\n",
       "    </tr>\n",
       "  </thead>\n",
       "  <tbody>\n",
       "    <tr>\n",
       "      <th>0</th>\n",
       "      <td>Chez TJ</td>\n",
       "      <td>735 reviews</td>\n",
       "      <td>4 star rating</td>\n",
       "      <td>$$$$</td>\n",
       "      <td>2019.0</td>\n",
       "      <td>37.394680</td>\n",
       "      <td>-122.08044</td>\n",
       "      <td>South San Francisco</td>\n",
       "      <td>California</td>\n",
       "      <td>94041</td>\n",
       "      <td>Contemporary</td>\n",
       "      <td>$$$$</td>\n",
       "      <td>https://guide.michelin.com/us/en/california/so...</td>\n",
       "      <td>1.0</td>\n",
       "      <td>https://www.yelp.com/biz/chez-tj-mountain-view...</td>\n",
       "    </tr>\n",
       "    <tr>\n",
       "      <th>1</th>\n",
       "      <td>Protégé</td>\n",
       "      <td>348 reviews</td>\n",
       "      <td>4.5 star rating</td>\n",
       "      <td>$$$$</td>\n",
       "      <td>2019.0</td>\n",
       "      <td>37.427853</td>\n",
       "      <td>-122.14362</td>\n",
       "      <td>South San Francisco</td>\n",
       "      <td>California</td>\n",
       "      <td>94301</td>\n",
       "      <td>Contemporary</td>\n",
       "      <td>$$$</td>\n",
       "      <td>https://guide.michelin.com/us/en/california/so...</td>\n",
       "      <td>1.0</td>\n",
       "      <td>https://www.yelp.com/biz/prot%C3%A9g%C3%A9-pal...</td>\n",
       "    </tr>\n",
       "    <tr>\n",
       "      <th>2</th>\n",
       "      <td>Madera</td>\n",
       "      <td>886 reviews</td>\n",
       "      <td>3.5 star rating</td>\n",
       "      <td>$$$</td>\n",
       "      <td>2019.0</td>\n",
       "      <td>37.420140</td>\n",
       "      <td>-122.21151</td>\n",
       "      <td>San Francisco</td>\n",
       "      <td>California</td>\n",
       "      <td>94025</td>\n",
       "      <td>Contemporary</td>\n",
       "      <td>$$$</td>\n",
       "      <td>https://guide.michelin.com/us/en/california/sa...</td>\n",
       "      <td>1.0</td>\n",
       "      <td>https://www.yelp.com/biz/madera-menlo-park?osq...</td>\n",
       "    </tr>\n",
       "    <tr>\n",
       "      <th>3</th>\n",
       "      <td>The Village Pub</td>\n",
       "      <td>1088 reviews</td>\n",
       "      <td>4 star rating</td>\n",
       "      <td>$$$$</td>\n",
       "      <td>2019.0</td>\n",
       "      <td>37.428970</td>\n",
       "      <td>-122.25178</td>\n",
       "      <td>San Francisco</td>\n",
       "      <td>California</td>\n",
       "      <td>94062</td>\n",
       "      <td>Contemporary</td>\n",
       "      <td>$$$</td>\n",
       "      <td>https://guide.michelin.com/us/en/california/sa...</td>\n",
       "      <td>1.0</td>\n",
       "      <td>https://www.yelp.com/biz/the-village-pub-woods...</td>\n",
       "    </tr>\n",
       "    <tr>\n",
       "      <th>4</th>\n",
       "      <td>Plumed Horse</td>\n",
       "      <td>1244 reviews</td>\n",
       "      <td>4 star rating</td>\n",
       "      <td>$$$$</td>\n",
       "      <td>2019.0</td>\n",
       "      <td>37.256480</td>\n",
       "      <td>-122.03537</td>\n",
       "      <td>South San Francisco</td>\n",
       "      <td>California</td>\n",
       "      <td>95070</td>\n",
       "      <td>Contemporary</td>\n",
       "      <td>$$$$</td>\n",
       "      <td>https://guide.michelin.com/us/en/california/so...</td>\n",
       "      <td>1.0</td>\n",
       "      <td>https://www.yelp.com/biz/plumed-horse-saratoga...</td>\n",
       "    </tr>\n",
       "  </tbody>\n",
       "</table>\n",
       "</div>"
      ],
      "text/plain": [
       "              name  review count           rating price rating    year  \\\n",
       "0          Chez TJ   735 reviews    4 star rating         $$$$  2019.0   \n",
       "1          Protégé   348 reviews  4.5 star rating         $$$$  2019.0   \n",
       "2           Madera   886 reviews  3.5 star rating          $$$  2019.0   \n",
       "3  The Village Pub  1088 reviews    4 star rating         $$$$  2019.0   \n",
       "4     Plumed Horse  1244 reviews    4 star rating         $$$$  2019.0   \n",
       "\n",
       "    latitude  longitude                 city      region  zipCode  \\\n",
       "0  37.394680 -122.08044  South San Francisco  California    94041   \n",
       "1  37.427853 -122.14362  South San Francisco  California    94301   \n",
       "2  37.420140 -122.21151        San Francisco  California    94025   \n",
       "3  37.428970 -122.25178        San Francisco  California    94062   \n",
       "4  37.256480 -122.03537  South San Francisco  California    95070   \n",
       "\n",
       "        cuisine price                                                url  \\\n",
       "0  Contemporary  $$$$  https://guide.michelin.com/us/en/california/so...   \n",
       "1  Contemporary   $$$  https://guide.michelin.com/us/en/california/so...   \n",
       "2  Contemporary   $$$  https://guide.michelin.com/us/en/california/sa...   \n",
       "3  Contemporary   $$$  https://guide.michelin.com/us/en/california/sa...   \n",
       "4  Contemporary  $$$$  https://guide.michelin.com/us/en/california/so...   \n",
       "\n",
       "   stars                                           yelp url  \n",
       "0    1.0  https://www.yelp.com/biz/chez-tj-mountain-view...  \n",
       "1    1.0  https://www.yelp.com/biz/prot%C3%A9g%C3%A9-pal...  \n",
       "2    1.0  https://www.yelp.com/biz/madera-menlo-park?osq...  \n",
       "3    1.0  https://www.yelp.com/biz/the-village-pub-woods...  \n",
       "4    1.0  https://www.yelp.com/biz/plumed-horse-saratoga...  "
      ]
     },
     "execution_count": 1,
     "metadata": {},
     "output_type": "execute_result"
    }
   ],
   "source": [
    "import pandas as pd\n",
    "from pathlib import Path\n",
    "import matplotlib.pyplot as plt\n",
    "from sklearn.linear_model import LinearRegression\n",
    "\n",
    "#  Import and read the ca_michelin_yelp_data.csv.\n",
    "michelin_star_df = pd.read_csv(\"ca_michelin_yelp_data.csv\") \n",
    "michelin_star_df.head()"
   ]
  },
  {
   "cell_type": "code",
   "execution_count": 2,
   "id": "34ed527f",
   "metadata": {},
   "outputs": [
    {
     "data": {
      "text/html": [
       "<div>\n",
       "<style scoped>\n",
       "    .dataframe tbody tr th:only-of-type {\n",
       "        vertical-align: middle;\n",
       "    }\n",
       "\n",
       "    .dataframe tbody tr th {\n",
       "        vertical-align: top;\n",
       "    }\n",
       "\n",
       "    .dataframe thead th {\n",
       "        text-align: right;\n",
       "    }\n",
       "</style>\n",
       "<table border=\"1\" class=\"dataframe\">\n",
       "  <thead>\n",
       "    <tr style=\"text-align: right;\">\n",
       "      <th></th>\n",
       "      <th>name</th>\n",
       "      <th>review_counts</th>\n",
       "      <th>rating</th>\n",
       "      <th>price_rating</th>\n",
       "      <th>year</th>\n",
       "      <th>latitude</th>\n",
       "      <th>longitude</th>\n",
       "      <th>city</th>\n",
       "      <th>region</th>\n",
       "      <th>zipCode</th>\n",
       "      <th>cuisine</th>\n",
       "      <th>price</th>\n",
       "      <th>url</th>\n",
       "      <th>stars</th>\n",
       "      <th>yelp url</th>\n",
       "    </tr>\n",
       "  </thead>\n",
       "  <tbody>\n",
       "    <tr>\n",
       "      <th>0</th>\n",
       "      <td>Chez TJ</td>\n",
       "      <td>735.0</td>\n",
       "      <td>4.0</td>\n",
       "      <td>$$$$</td>\n",
       "      <td>2019.0</td>\n",
       "      <td>37.394680</td>\n",
       "      <td>-122.08044</td>\n",
       "      <td>South San Francisco</td>\n",
       "      <td>California</td>\n",
       "      <td>94041</td>\n",
       "      <td>Contemporary</td>\n",
       "      <td>$$$$</td>\n",
       "      <td>https://guide.michelin.com/us/en/california/so...</td>\n",
       "      <td>1.0</td>\n",
       "      <td>https://www.yelp.com/biz/chez-tj-mountain-view...</td>\n",
       "    </tr>\n",
       "    <tr>\n",
       "      <th>1</th>\n",
       "      <td>Protégé</td>\n",
       "      <td>348.0</td>\n",
       "      <td>4.5</td>\n",
       "      <td>$$$$</td>\n",
       "      <td>2019.0</td>\n",
       "      <td>37.427853</td>\n",
       "      <td>-122.14362</td>\n",
       "      <td>South San Francisco</td>\n",
       "      <td>California</td>\n",
       "      <td>94301</td>\n",
       "      <td>Contemporary</td>\n",
       "      <td>$$$</td>\n",
       "      <td>https://guide.michelin.com/us/en/california/so...</td>\n",
       "      <td>1.0</td>\n",
       "      <td>https://www.yelp.com/biz/prot%C3%A9g%C3%A9-pal...</td>\n",
       "    </tr>\n",
       "    <tr>\n",
       "      <th>2</th>\n",
       "      <td>Madera</td>\n",
       "      <td>886.0</td>\n",
       "      <td>3.5</td>\n",
       "      <td>$$$</td>\n",
       "      <td>2019.0</td>\n",
       "      <td>37.420140</td>\n",
       "      <td>-122.21151</td>\n",
       "      <td>San Francisco</td>\n",
       "      <td>California</td>\n",
       "      <td>94025</td>\n",
       "      <td>Contemporary</td>\n",
       "      <td>$$$</td>\n",
       "      <td>https://guide.michelin.com/us/en/california/sa...</td>\n",
       "      <td>1.0</td>\n",
       "      <td>https://www.yelp.com/biz/madera-menlo-park?osq...</td>\n",
       "    </tr>\n",
       "    <tr>\n",
       "      <th>3</th>\n",
       "      <td>The Village Pub</td>\n",
       "      <td>1088.0</td>\n",
       "      <td>4.0</td>\n",
       "      <td>$$$$</td>\n",
       "      <td>2019.0</td>\n",
       "      <td>37.428970</td>\n",
       "      <td>-122.25178</td>\n",
       "      <td>San Francisco</td>\n",
       "      <td>California</td>\n",
       "      <td>94062</td>\n",
       "      <td>Contemporary</td>\n",
       "      <td>$$$</td>\n",
       "      <td>https://guide.michelin.com/us/en/california/sa...</td>\n",
       "      <td>1.0</td>\n",
       "      <td>https://www.yelp.com/biz/the-village-pub-woods...</td>\n",
       "    </tr>\n",
       "    <tr>\n",
       "      <th>4</th>\n",
       "      <td>Plumed Horse</td>\n",
       "      <td>1244.0</td>\n",
       "      <td>4.0</td>\n",
       "      <td>$$$$</td>\n",
       "      <td>2019.0</td>\n",
       "      <td>37.256480</td>\n",
       "      <td>-122.03537</td>\n",
       "      <td>South San Francisco</td>\n",
       "      <td>California</td>\n",
       "      <td>95070</td>\n",
       "      <td>Contemporary</td>\n",
       "      <td>$$$$</td>\n",
       "      <td>https://guide.michelin.com/us/en/california/so...</td>\n",
       "      <td>1.0</td>\n",
       "      <td>https://www.yelp.com/biz/plumed-horse-saratoga...</td>\n",
       "    </tr>\n",
       "  </tbody>\n",
       "</table>\n",
       "</div>"
      ],
      "text/plain": [
       "              name  review_counts  rating price_rating    year   latitude  \\\n",
       "0          Chez TJ          735.0     4.0         $$$$  2019.0  37.394680   \n",
       "1          Protégé          348.0     4.5         $$$$  2019.0  37.427853   \n",
       "2           Madera          886.0     3.5          $$$  2019.0  37.420140   \n",
       "3  The Village Pub         1088.0     4.0         $$$$  2019.0  37.428970   \n",
       "4     Plumed Horse         1244.0     4.0         $$$$  2019.0  37.256480   \n",
       "\n",
       "   longitude                 city      region  zipCode       cuisine price  \\\n",
       "0 -122.08044  South San Francisco  California    94041  Contemporary  $$$$   \n",
       "1 -122.14362  South San Francisco  California    94301  Contemporary   $$$   \n",
       "2 -122.21151        San Francisco  California    94025  Contemporary   $$$   \n",
       "3 -122.25178        San Francisco  California    94062  Contemporary   $$$   \n",
       "4 -122.03537  South San Francisco  California    95070  Contemporary  $$$$   \n",
       "\n",
       "                                                 url  stars  \\\n",
       "0  https://guide.michelin.com/us/en/california/so...    1.0   \n",
       "1  https://guide.michelin.com/us/en/california/so...    1.0   \n",
       "2  https://guide.michelin.com/us/en/california/sa...    1.0   \n",
       "3  https://guide.michelin.com/us/en/california/sa...    1.0   \n",
       "4  https://guide.michelin.com/us/en/california/so...    1.0   \n",
       "\n",
       "                                            yelp url  \n",
       "0  https://www.yelp.com/biz/chez-tj-mountain-view...  \n",
       "1  https://www.yelp.com/biz/prot%C3%A9g%C3%A9-pal...  \n",
       "2  https://www.yelp.com/biz/madera-menlo-park?osq...  \n",
       "3  https://www.yelp.com/biz/the-village-pub-woods...  \n",
       "4  https://www.yelp.com/biz/plumed-horse-saratoga...  "
      ]
     },
     "execution_count": 2,
     "metadata": {},
     "output_type": "execute_result"
    }
   ],
   "source": [
    "michelin_star_df.rename(columns={'review count':'review_counts', 'price rating':'price_rating'}, inplace=True)\n",
    "michelin_star_df['review_counts'] = michelin_star_df['review_counts'].str.replace(' reviews','').astype(float)\n",
    "michelin_star_df['rating'] = michelin_star_df['rating'].str.replace(' star rating','').astype(float)\n",
    "michelin_star_df.head()"
   ]
  },
  {
   "cell_type": "code",
   "execution_count": 27,
   "id": "e24cd151",
   "metadata": {},
   "outputs": [
    {
     "data": {
      "image/png": "[encoded data removed]",
      "text/plain": [
       "<Figure size 432x288 with 1 Axes>"
      ]
     },
     "metadata": {
      "needs_background": "light"
     },
     "output_type": "display_data"
    }
   ],
   "source": [
    "plt.scatter(michelin_star_df.stars, michelin_star_df.review_counts)\n",
    "plt.xlabel('Michelin Stars')\n",
    "plt.ylabel('Number of Reviews')\n",
    "plt.show()"
   ]
  },
  {
   "cell_type": "code",
   "execution_count": 28,
   "id": "cd801e55",
   "metadata": {},
   "outputs": [],
   "source": [
    "X = michelin_star_df.stars.values.reshape(-1, 1)\n",
    "# -1 means that the number of rows is unspecified \n",
    "# 1 refers to the number of columns - meaning that there is only one independent variable. \n",
    "# X is the input data"
   ]
  },
  {
   "cell_type": "code",
   "execution_count": 29,
   "id": "95befde0",
   "metadata": {},
   "outputs": [
    {
     "data": {
      "text/plain": [
       "(67, 1)"
      ]
     },
     "execution_count": 29,
     "metadata": {},
     "output_type": "execute_result"
    }
   ],
   "source": [
    "X.shape"
   ]
  },
  {
   "cell_type": "code",
   "execution_count": 30,
   "id": "46bf58e6",
   "metadata": {},
   "outputs": [],
   "source": [
    "y = michelin_star_df.review_counts"
   ]
  },
  {
   "cell_type": "code",
   "execution_count": 31,
   "id": "17b0bff7",
   "metadata": {},
   "outputs": [],
   "source": [
    "model = LinearRegression()"
   ]
  },
  {
   "cell_type": "code",
   "execution_count": 32,
   "id": "b05b354d",
   "metadata": {},
   "outputs": [
    {
     "data": {
      "text/plain": [
       "LinearRegression()"
      ]
     },
     "execution_count": 32,
     "metadata": {},
     "output_type": "execute_result"
    }
   ],
   "source": [
    "model.fit(X, y)"
   ]
  },
  {
   "cell_type": "code",
   "execution_count": 33,
   "id": "a4fcdf62",
   "metadata": {},
   "outputs": [
    {
     "name": "stdout",
     "output_type": "stream",
     "text": [
      "(67,)\n"
     ]
    }
   ],
   "source": [
    "y_pred = model.predict(X)\n",
    "print(y_pred.shape)"
   ]
  },
  {
   "cell_type": "code",
   "execution_count": 36,
   "id": "99a20f67",
   "metadata": {},
   "outputs": [
    {
     "data": {
      "image/png": "[encoded data removed]",
      "text/plain": [
       "<Figure size 432x288 with 1 Axes>"
      ]
     },
     "metadata": {
      "needs_background": "light"
     },
     "output_type": "display_data"
    }
   ],
   "source": [
    "plt.scatter(X, y)\n",
    "plt.plot(X, y_pred, color='red')\n",
    "plt.xlim(0, 5)\n",
    "plt.show()"
   ]
  },
  {
   "cell_type": "raw",
   "id": "b57635d5",
   "metadata": {},
   "source": [
    "print(model.coef_)\n",
    "print(model.intercept_)"
   ]
  },
  {
   "cell_type": "code",
   "execution_count": null,
   "id": "df985924",
   "metadata": {},
   "outputs": [],
   "source": []
  }
 ],
 "metadata": {
  "kernelspec": {
   "display_name": "mlenv",
   "language": "python",
   "name": "mlenv"
  },
  "language_info": {
   "codemirror_mode": {
    "name": "ipython",
    "version": 3
   },
   "file_extension": ".py",
   "mimetype": "text/x-python",
   "name": "python",
   "nbconvert_exporter": "python",
   "pygments_lexer": "ipython3",
   "version": "3.7.11"
  }
 },
 "nbformat": 4,
 "nbformat_minor": 5
}
